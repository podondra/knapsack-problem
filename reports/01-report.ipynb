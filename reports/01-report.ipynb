{
 "cells": [
  {
   "cell_type": "markdown",
   "metadata": {},
   "source": [
    "# Řešení problému batohu metodou hrubé síly a jednoduchou heuristikou\n",
    "\n",
    "Autor: Ondřej Podsztavek"
   ]
  },
  {
   "cell_type": "markdown",
   "metadata": {},
   "source": [
    "## Specifikace úlohy\n",
    "\n",
    "Je dáno celé číslo $n$ (počet věcí), celé číslo $M$ (kapacita batohu),\n",
    "konečná množina $V = \\{v_1, v_2, \\dots , v_n\\}$ (hmotnosti věcí),\n",
    "konečná množina $C = \\{c_1, c_2, \\dots , c_n\\}$ (ceny věcí).\n",
    "Zkonstruujte množinu $X = \\{x_1, x_2, \\dots , x_n\\}$, kde každé $x_i \\in \\{0, 1\\}$, tak, aby\n",
    "platilo $v_1 x_1 + v_2 x_2 + \\dots + v_n x_n \\leq M$ (batoh nebyl přetížen)\n",
    "a výraz $c_1 x_1 + c_2 x_2 + \\dots + c_n x_n$ nabýval maximální hodnoty pro všechny takové množiny\n",
    "(cena věcí v batohu byla maximální)."
   ]
  },
  {
   "cell_type": "markdown",
   "metadata": {},
   "source": [
    "## Rozbor možných variant řešení\n",
    "\n",
    "V této fázi řešení úlohy připadají v úvahu dvě metody řešení problému batohu. První je metoda *hrubou silou*. Ta vyzkouší všechny konfigurace a vrátí optimální řešení. Druhá metoda je založena na *heuristice* vkládání podle poměru ceny a váhy. Řešení pomocí heuristiky rychle batoh naplní, avšak může nalézt pouze suboptimální řešení."
   ]
  },
  {
   "cell_type": "markdown",
   "metadata": {},
   "source": [
    "## Rámcový popis postupu řešení\n",
    "\n",
    "### Metoda hrubou silou\n",
    "\n",
    "Metoda si pamatuje nejlepší hodnotu řešení a korespondující konfiguraci. Pro každou konfiguraci ověří omezení a spočítá optimalizační kritérium. Jeho hodnotu porovná s dosavadní nejlepší hodnotou řešení a případně nejlepší hodnotu upraví. Po vyzkoušení všech konfigurací má metoda uložené optimální řešení.\n",
    "Složitost této metody je tedy $\\Theta(n2^n)$, kde $n$ je velikost instance, protože počet všech kombinací naplnění batohu je právě $2^n$ a pro každé je třeba spočítat omezení a optimalizační kritérium v čase $\\Theta(n)$.\n",
    "\n",
    "### Heuristická metoda\n",
    "\n",
    "Metoda vypočítá podíl cena ku váha ($\\frac{c_i}{v_i}$) pro každou věc. Podle toho podílu věci sestupně seřadí (v případě stejného podílu preferuje lehčí věc). Seřazené věci postupně vkládá do batohu, pokud se do něj ještě vejdou. Pokračuje až do naplnění batohu.\n",
    "Složitost této metody je $O(n\\log{n})$, protože složitost řadící funkce `sorted()` jazyku Python je $O(n\\log{n})$\n",
    "(viz [Timsort](https://en.wikipedia.org/wiki/Timsort))\n",
    "a složitost nalezení subomptimální konfigurece je pouze $O(n)$."
   ]
  },
  {
   "cell_type": "markdown",
   "metadata": {},
   "source": [
    "## Naměřené výsledky\n",
    "\n",
    "Tabulka níže obsahuje průměrné CPU časy výpočtu jednotlivých velikostí instancí.\n",
    "Měření proběhlo na procesoru Intel(R) Core(TM) i5-3337U CPU @ 1.80GHz.\n",
    "Časy pro velikost instance 27 metodou hrubé síly se již nepovedli naměřit kvůli výpočetní náročnosti.\n",
    "\n",
    "velikost instance | hrubá síla, CPU čas ($s$) | heuristika, CPU čas ($s$)\n",
    "--:|---------:|--------:\n",
    "4  | 0.000038 | 0.000026\n",
    "10 | 0.002232 | 0.000027\n",
    "15 | 0.102152 | 0.000035\n",
    "20 | 3.788610 | 0.000044\n",
    "22 | 16.176022 | 0.000058\n",
    "25 | 138.542621 | 0.000064\n",
    "27 | | 0.000055\n",
    "30 | | 0.000059\n",
    "32 | | 0.000070\n",
    "35 | | 0.000064\n",
    "37 | | 0.000058\n",
    "40 | | 0.000058\n",
    "\n",
    "Graf 1 zobrazuje závislost času na velikosti instance.\n",
    "Graf 2 zobrazuje závislost relativní chyby na velikosti instance.\n",
    "Relativní chyba $\\epsilon$ se vyčítá jako $\\epsilon = \\frac{c(\\text{opt}) - c(\\text{apx})}{c(\\text{opt})}$,\n",
    "kde $c(\\text{opt})$ je cena optima a $c(\\text{apx})$ je cena suboptimálního řešení.\n",
    "\n",
    "![Graf 1: Průměrný výpočetní CPU čas hrubé síly a heuristické metody.](img/brute_force_heuristic_times.pdf)\n",
    "\n",
    "![Graf 2: Relativní chyba heuristické metody.](img/heuristic_relative_error.pdf)"
   ]
  },
  {
   "cell_type": "markdown",
   "metadata": {},
   "source": [
    "## Závěr\n",
    "\n",
    "Z naměřených dat plyne, že pro velké instance je použití metody hrubé síly nepoužitelné kvůli vysoké výpočetní náročnosti.\n",
    "Pro malé instance ovšem dokáže hrubá síla relativně rychle najít optimální řešení.\n",
    "\n",
    "Heuristická metoda dokáže rychle vypočítat i velké instance.\n",
    "Růst její výpočetní náročnosti je unosný.\n",
    "Z grafu relativních chyb lze pozorovat, že čím větší instance,\n",
    "tím menší relativní chyba a tím lepší suboptimální řešení heuristická metoda nalezne.\n",
    "\n",
    "Nabízí se tedy pro malé instance použít hrubou sílu a pro velikosti instancí,\n",
    "kde je už doba výpočtu hrubou silou neúnosná, metodu heuristickou."
   ]
  }
 ],
 "metadata": {
  "kernelspec": {
   "display_name": "Python 3",
   "language": "python",
   "name": "python3"
  },
  "language_info": {
   "codemirror_mode": {
    "name": "ipython",
    "version": 3
   },
   "file_extension": ".py",
   "mimetype": "text/x-python",
   "name": "python",
   "nbconvert_exporter": "python",
   "pygments_lexer": "ipython3",
   "version": "3.6.3"
  }
 },
 "nbformat": 4,
 "nbformat_minor": 2
}
