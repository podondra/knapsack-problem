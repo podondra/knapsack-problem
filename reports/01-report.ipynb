{
 "cells": [
  {
   "cell_type": "markdown",
   "metadata": {},
   "source": [
    "# Brute Force and Heuristic Method Solution for Knapsack Problem\n",
    "\n",
    "Author: Ondřej Podsztavek"
   ]
  },
  {
   "cell_type": "markdown",
   "metadata": {},
   "source": [
    "## Problem Specification\n",
    "\n",
    "Given whole number $n$ (number of things), whole number $M$ (knapsack capacity),\n",
    "finite set $W = \\{w_1, w_2, \\dots , w_n\\}$ (things' weights),\n",
    "finite set $C = \\{c_1, c_2, \\dots , c_n\\}$ (things' price).\n",
    "Construct set $X = \\{x_1, x_2, \\dots , x_n\\}$ where all $x_i \\in \\{0, 1\\}$,\n",
    "so that $w_1 x_1 + w_2 x_2 + \\dots + w_n x_n \\leq M$ (knapsack is not overloaded)\n",
    "and expression $c_1 x_1 + c_2 x_2 + \\dots + c_n x_n$ is maximal for all such sets\n",
    "(price of things in knapsack is maximal)."
   ]
  },
  {
   "cell_type": "markdown",
   "metadata": {},
   "source": [
    "## Analysis of Possible Solution Variants\n",
    "\n",
    "In this stage there are two method possible. First is *brute force method*. It tries all possible configurations and return optimal solution. Second method is based on *heuristic* inserting according to ratio of price and weight. Solution by heuristic fill the knapsack fast, but it can find suboptimal solution."
   ]
  },
  {
   "cell_type": "markdown",
   "metadata": {},
   "source": [
    "## Outline of Solution Process\n",
    "\n",
    "### Brute Force Method\n",
    "\n",
    "This method remember the best cost of solution and corresponding configurations.\n",
    "For every configuration it check the constrain and compute the optimization criterion.\n",
    "Its value is compared to the best value computed so far and if needed the best value is modified.\n",
    "After testing all configurations the method has the optimal solution saved.\n",
    "Complexity of this method is $\\Theta(n2^n)$ where $n$ is instance size because count of all possible knapsack\n",
    "fillings is $2^n$ and for each of them constrain and optimization criterion has to be computed in time $\\Theta(n)$.\n",
    "\n",
    "### Heuristic Method\n",
    "\n",
    "This method calculates ratio of price and weight ($\\frac{c_i}{w_i}$) for each thing.\n",
    "According to this ratio the thing are sorted in descending order\n",
    "(if the ratio is the same then the lighter thing is preferred).\n",
    "Things are inserted into the knapsack in the sorted order until the knapsack is full.\n",
    "Heuristic method's complexity is $O(n\\log{n})$ because complexity of sorting Python function `sorted()` is\n",
    "$O(n\\log{n})$ (viz [Timsort](https://en.wikipedia.org/wiki/Timsort))\n",
    "and complexity of knapsack filling is only $O(n)$."
   ]
  },
  {
   "cell_type": "markdown",
   "metadata": {},
   "source": [
    "## Measured Results\n",
    "\n",
    "Table below contains average CPU time of computations of each instance sizes.\n",
    "Measuring was carried out on processor Intel(R) Core(TM) i5-3337U CPU @ 1.80GHz.\n",
    "Times for brute force method on instance of size 27 where not possible to measure because of computational complexity.\n",
    "\n",
    "instance size | brute force, CPU time ($s$) | heuristic, CPU time ($s$)\n",
    "--:|---------:|--------:\n",
    "4  | 0.000038 | 0.000026\n",
    "10 | 0.002232 | 0.000027\n",
    "15 | 0.102152 | 0.000035\n",
    "20 | 3.788610 | 0.000044\n",
    "22 | 16.176022 | 0.000058\n",
    "25 | 138.542621 | 0.000064\n",
    "27 | | 0.000055\n",
    "30 | | 0.000059\n",
    "32 | | 0.000070\n",
    "35 | | 0.000064\n",
    "37 | | 0.000058\n",
    "40 | | 0.000058\n",
    "\n",
    "Figure 1 shows dependence of time on instance size.\n",
    "Figure 2 shows dependence of relative error on instance size.\n",
    "Relative error $\\epsilon$ is calculated as $\\epsilon = \\frac{c(\\text{opt}) - c(\\text{apx})}{c(\\text{opt})}$,\n",
    "where $c(\\text{opt})$ is cost of optimal and $c(\\text{apx})$ is cost of suboptimal solution.\n",
    "\n",
    "![Figure 1: Brute force and heuristic method average computational CPU time.](img/brute_force_heuristic_times.pdf)\n",
    "\n",
    "![Figure 2: Heuristic method relative error.](img/heuristic_relative_error.pdf)"
   ]
  },
  {
   "cell_type": "markdown",
   "metadata": {},
   "source": [
    "## Conclusion\n",
    "\n",
    "From measured data is obvious that for big instances is use of brute force method not usable because of vast computational complexity.\n",
    "On contrary for small instances brute force can find optimal solutions relatively fast.\n",
    "\n",
    "Heuristic method is able to solve fast instances of all sizes.\n",
    "Growth of computational complexity is acceptable.\n",
    "From figure 2 can be inferred that as size of instance grows so the relative error is smaller\n",
    "and thus the suboptimal solutions are better.\n",
    "\n",
    "Therefore brute force method should be use fro small instances\n",
    "and heuristic method is good for instances\n",
    "where the computational time of brute force method is not acceptable."
   ]
  }
 ],
 "metadata": {
  "kernelspec": {
   "display_name": "Python 3",
   "language": "python",
   "name": "python3"
  },
  "language_info": {
   "codemirror_mode": {
    "name": "ipython",
    "version": 3
   },
   "file_extension": ".py",
   "mimetype": "text/x-python",
   "name": "python",
   "nbconvert_exporter": "python",
   "pygments_lexer": "ipython3",
   "version": "3.6.3"
  }
 },
 "nbformat": 4,
 "nbformat_minor": 2
}
