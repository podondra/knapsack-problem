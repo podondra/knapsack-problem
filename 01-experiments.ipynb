{
 "cells": [
  {
   "cell_type": "code",
   "execution_count": 1,
   "metadata": {},
   "outputs": [],
   "source": [
    "import knapsack as knap\n",
    "import ast\n",
    "import timeit\n",
    "import time\n",
    "import glob\n",
    "import pandas as pd\n",
    "import numpy as np\n",
    "import matplotlib.pyplot as plt\n",
    "from matplotlib.ticker import FormatStrFormatter\n",
    "from functools import partial"
   ]
  },
  {
   "cell_type": "code",
   "execution_count": 2,
   "metadata": {},
   "outputs": [],
   "source": [
    "%matplotlib inline"
   ]
  },
  {
   "cell_type": "markdown",
   "metadata": {},
   "source": [
    "## The Data"
   ]
  },
  {
   "cell_type": "code",
   "execution_count": 3,
   "metadata": {},
   "outputs": [],
   "source": [
    "def read_all_instances():\n",
    "    instances = dict()\n",
    "    for filename in glob.iglob('data/knap_??.inst.dat'):\n",
    "        with open(filename) as f:\n",
    "            instances.update(knap.read_instances(f))\n",
    "\n",
    "    return pd.DataFrame.from_dict(instances, orient='index')"
   ]
  },
  {
   "cell_type": "code",
   "execution_count": 4,
   "metadata": {},
   "outputs": [],
   "source": [
    "def read_solutions(f):\n",
    "    data = {}\n",
    "    for line in f.readlines():\n",
    "        items = list(map(int, line.split()))\n",
    "        data[items[0]] = {\n",
    "            'solution_value': items[2],\n",
    "            'solution': items[3:]\n",
    "        }\n",
    "    return data"
   ]
  },
  {
   "cell_type": "code",
   "execution_count": 5,
   "metadata": {},
   "outputs": [],
   "source": [
    "def read_all_solutions():\n",
    "    solutions = dict()\n",
    "    for filename in glob.iglob('data/knap_??.sol.dat'):\n",
    "        with open(filename) as f:\n",
    "            solutions.update(read_solutions(f))\n",
    "    return pd.DataFrame.from_dict(solutions, orient='index')"
   ]
  },
  {
   "cell_type": "code",
   "execution_count": 6,
   "metadata": {},
   "outputs": [],
   "source": [
    "# df = pd.concat([inst_df, sol_df], axis=1)"
   ]
  },
  {
   "cell_type": "code",
   "execution_count": 7,
   "metadata": {},
   "outputs": [],
   "source": [
    "def backup_dataframe():\n",
    "    # save DataFrame\n",
    "    df.to_csv('data/dataframe-backup.csv')"
   ]
  },
  {
   "cell_type": "code",
   "execution_count": 8,
   "metadata": {},
   "outputs": [
    {
     "name": "stdout",
     "output_type": "stream",
     "text": [
      "<class 'pandas.core.frame.DataFrame'>\n",
      "Int64Index: 600 entries, 9000 to 9599\n",
      "Data columns (total 10 columns):\n",
      "n                   600 non-null int64\n",
      "m                   600 non-null int64\n",
      "weights             600 non-null object\n",
      "values              600 non-null object\n",
      "heuristic_time      600 non-null float64\n",
      "brute_force_time    300 non-null float64\n",
      "solution_value      600 non-null int64\n",
      "solution            600 non-null object\n",
      "heuristic_value     600 non-null float64\n",
      "relative_error      600 non-null float64\n",
      "dtypes: float64(4), int64(3), object(3)\n",
      "memory usage: 51.6+ KB\n"
     ]
    },
    {
     "data": {
      "text/html": [
       "<div>\n",
       "<style>\n",
       "    .dataframe thead tr:only-child th {\n",
       "        text-align: right;\n",
       "    }\n",
       "\n",
       "    .dataframe thead th {\n",
       "        text-align: left;\n",
       "    }\n",
       "\n",
       "    .dataframe tbody tr th {\n",
       "        vertical-align: top;\n",
       "    }\n",
       "</style>\n",
       "<table border=\"1\" class=\"dataframe\">\n",
       "  <thead>\n",
       "    <tr style=\"text-align: right;\">\n",
       "      <th></th>\n",
       "      <th>n</th>\n",
       "      <th>m</th>\n",
       "      <th>weights</th>\n",
       "      <th>values</th>\n",
       "      <th>heuristic_time</th>\n",
       "      <th>brute_force_time</th>\n",
       "      <th>solution_value</th>\n",
       "      <th>solution</th>\n",
       "      <th>heuristic_value</th>\n",
       "      <th>relative_error</th>\n",
       "    </tr>\n",
       "  </thead>\n",
       "  <tbody>\n",
       "    <tr>\n",
       "      <th>9000</th>\n",
       "      <td>4</td>\n",
       "      <td>100</td>\n",
       "      <td>[18, 42, 88, 3]</td>\n",
       "      <td>[114, 136, 192, 223]</td>\n",
       "      <td>0.000037</td>\n",
       "      <td>0.000055</td>\n",
       "      <td>473</td>\n",
       "      <td>[1, 1, 0, 1]</td>\n",
       "      <td>473.0</td>\n",
       "      <td>0.000000</td>\n",
       "    </tr>\n",
       "    <tr>\n",
       "      <th>9001</th>\n",
       "      <td>4</td>\n",
       "      <td>100</td>\n",
       "      <td>[55, 81, 14, 52]</td>\n",
       "      <td>[29, 64, 104, 222]</td>\n",
       "      <td>0.000030</td>\n",
       "      <td>0.000055</td>\n",
       "      <td>326</td>\n",
       "      <td>[0, 0, 1, 1]</td>\n",
       "      <td>326.0</td>\n",
       "      <td>0.000000</td>\n",
       "    </tr>\n",
       "    <tr>\n",
       "      <th>9002</th>\n",
       "      <td>4</td>\n",
       "      <td>100</td>\n",
       "      <td>[89, 18, 57, 69]</td>\n",
       "      <td>[196, 62, 34, 112]</td>\n",
       "      <td>0.000027</td>\n",
       "      <td>0.000051</td>\n",
       "      <td>196</td>\n",
       "      <td>[1, 0, 0, 0]</td>\n",
       "      <td>174.0</td>\n",
       "      <td>0.112245</td>\n",
       "    </tr>\n",
       "    <tr>\n",
       "      <th>9003</th>\n",
       "      <td>4</td>\n",
       "      <td>100</td>\n",
       "      <td>[34, 23, 62, 2]</td>\n",
       "      <td>[169, 152, 44, 224]</td>\n",
       "      <td>0.000029</td>\n",
       "      <td>0.000059</td>\n",
       "      <td>545</td>\n",
       "      <td>[1, 1, 0, 1]</td>\n",
       "      <td>545.0</td>\n",
       "      <td>0.000000</td>\n",
       "    </tr>\n",
       "    <tr>\n",
       "      <th>9004</th>\n",
       "      <td>4</td>\n",
       "      <td>100</td>\n",
       "      <td>[67, 74, 87, 65]</td>\n",
       "      <td>[145, 111, 139, 243]</td>\n",
       "      <td>0.000023</td>\n",
       "      <td>0.000061</td>\n",
       "      <td>243</td>\n",
       "      <td>[0, 0, 0, 1]</td>\n",
       "      <td>243.0</td>\n",
       "      <td>0.000000</td>\n",
       "    </tr>\n",
       "  </tbody>\n",
       "</table>\n",
       "</div>"
      ],
      "text/plain": [
       "      n    m           weights                values  heuristic_time  \\\n",
       "9000  4  100   [18, 42, 88, 3]  [114, 136, 192, 223]        0.000037   \n",
       "9001  4  100  [55, 81, 14, 52]    [29, 64, 104, 222]        0.000030   \n",
       "9002  4  100  [89, 18, 57, 69]    [196, 62, 34, 112]        0.000027   \n",
       "9003  4  100   [34, 23, 62, 2]   [169, 152, 44, 224]        0.000029   \n",
       "9004  4  100  [67, 74, 87, 65]  [145, 111, 139, 243]        0.000023   \n",
       "\n",
       "      brute_force_time  solution_value      solution  heuristic_value  \\\n",
       "9000          0.000055             473  [1, 1, 0, 1]            473.0   \n",
       "9001          0.000055             326  [0, 0, 1, 1]            326.0   \n",
       "9002          0.000051             196  [1, 0, 0, 0]            174.0   \n",
       "9003          0.000059             545  [1, 1, 0, 1]            545.0   \n",
       "9004          0.000061             243  [0, 0, 0, 1]            243.0   \n",
       "\n",
       "      relative_error  \n",
       "9000        0.000000  \n",
       "9001        0.000000  \n",
       "9002        0.112245  \n",
       "9003        0.000000  \n",
       "9004        0.000000  "
      ]
     },
     "execution_count": 8,
     "metadata": {},
     "output_type": "execute_result"
    }
   ],
   "source": [
    "# restore DataFrame\n",
    "generic = lambda x: ast.literal_eval(x)\n",
    "converters = {\n",
    "    'weights': generic,\n",
    "    'values': generic,\n",
    "    'solution': generic\n",
    "}\n",
    "df = pd.read_csv('data/dataframe-backup.csv', index_col=0, converters=converters)\n",
    "df.info()\n",
    "df.head()"
   ]
  },
  {
   "cell_type": "code",
   "execution_count": 9,
   "metadata": {},
   "outputs": [],
   "source": [
    "ns = [4, 10, 15, 20, 22, 25, 27, 30, 32, 35, 37, 40]"
   ]
  },
  {
   "cell_type": "code",
   "execution_count": 10,
   "metadata": {},
   "outputs": [],
   "source": [
    "def time_instances(fn, ns, df, time_column):\n",
    "    for n in ns:\n",
    "        for idx, inst in df[df['n'] == n].iterrows():\n",
    "            global inst_fn  # TODO global allows to make import from __main__\n",
    "            inst_fn = partial(fn, *inst[['n', 'm', 'weights', 'values']])\n",
    "            timer = timeit.Timer('inst_fn()', setup='from __main__ import inst_fn', timer=time.process_time)\n",
    "            t = timer.timeit(number=1)\n",
    "            df.loc[idx, time_column] = t\n",
    "            print(idx, inst['n'], t)"
   ]
  },
  {
   "cell_type": "markdown",
   "metadata": {},
   "source": [
    "## Brute Force"
   ]
  },
  {
   "cell_type": "code",
   "execution_count": 11,
   "metadata": {
    "scrolled": true
   },
   "outputs": [],
   "source": [
    "time_instances(knap.brute_force, [], df, 'brute_force_time')"
   ]
  },
  {
   "cell_type": "markdown",
   "metadata": {},
   "source": [
    "## Heuristic"
   ]
  },
  {
   "cell_type": "code",
   "execution_count": 12,
   "metadata": {
    "scrolled": true
   },
   "outputs": [],
   "source": [
    "time_instances(knap.heuristic, [], df, 'heuristic_time')"
   ]
  },
  {
   "cell_type": "code",
   "execution_count": 13,
   "metadata": {},
   "outputs": [],
   "source": [
    "def solve_instances(fn, ns, df, solution_column):\n",
    "    for n in ns:\n",
    "        for idx, inst in df[df['n'] == n].iterrows():\n",
    "            value, _ = fn(*inst[['n', 'm', 'weights', 'values']])\n",
    "            df.loc[idx, solution_column] = value\n",
    "            print(idx, inst['n'], value)"
   ]
  },
  {
   "cell_type": "code",
   "execution_count": 14,
   "metadata": {},
   "outputs": [],
   "source": [
    "solve_instances(knap.heuristic, [], df, 'heuristic_value')"
   ]
  },
  {
   "cell_type": "markdown",
   "metadata": {},
   "source": [
    "## Relative Error"
   ]
  },
  {
   "cell_type": "code",
   "execution_count": 15,
   "metadata": {},
   "outputs": [],
   "source": [
    "df['relative_error'] = (df['solution_value'] - df['heuristic_value']) / df['solution_value']"
   ]
  },
  {
   "cell_type": "code",
   "execution_count": 16,
   "metadata": {
    "scrolled": false
   },
   "outputs": [
    {
     "data": {
      "image/png": "[encoded data removed]",
      "text/plain": [
       "<matplotlib.figure.Figure at 0x7fc4aff42ac8>"
      ]
     },
     "metadata": {},
     "output_type": "display_data"
    }
   ],
   "source": [
    "relative_error = df.groupby(by='n')['n', 'relative_error'].mean()\n",
    "ax = relative_error.plot(kind='scatter', x='n', y='relative_error', marker='x')\n",
    "ax.set_title('Relativní chyba heuristické metody')\n",
    "ax.set_xticks(ns)\n",
    "ax.set_ylim([0, 0.03])\n",
    "ax.set_ylabel('relativní chyba')\n",
    "ax.set_xlabel('velikost instance')\n",
    "ax.grid()\n",
    "\n",
    "plt.savefig('reports/img/heuristic_relative_error.pdf')"
   ]
  },
  {
   "cell_type": "markdown",
   "metadata": {},
   "source": [
    "## Time Plot"
   ]
  },
  {
   "cell_type": "code",
   "execution_count": 17,
   "metadata": {
    "scrolled": true
   },
   "outputs": [
    {
     "data": {
      "text/html": [
       "<div>\n",
       "<style>\n",
       "    .dataframe thead tr:only-child th {\n",
       "        text-align: right;\n",
       "    }\n",
       "\n",
       "    .dataframe thead th {\n",
       "        text-align: left;\n",
       "    }\n",
       "\n",
       "    .dataframe tbody tr th {\n",
       "        vertical-align: top;\n",
       "    }\n",
       "</style>\n",
       "<table border=\"1\" class=\"dataframe\">\n",
       "  <thead>\n",
       "    <tr style=\"text-align: right;\">\n",
       "      <th></th>\n",
       "      <th>brute_force_time</th>\n",
       "      <th>heuristic_time</th>\n",
       "    </tr>\n",
       "    <tr>\n",
       "      <th>n</th>\n",
       "      <th></th>\n",
       "      <th></th>\n",
       "    </tr>\n",
       "  </thead>\n",
       "  <tbody>\n",
       "    <tr>\n",
       "      <th>4</th>\n",
       "      <td>0.000038</td>\n",
       "      <td>0.000026</td>\n",
       "    </tr>\n",
       "    <tr>\n",
       "      <th>10</th>\n",
       "      <td>0.002232</td>\n",
       "      <td>0.000027</td>\n",
       "    </tr>\n",
       "    <tr>\n",
       "      <th>15</th>\n",
       "      <td>0.102152</td>\n",
       "      <td>0.000035</td>\n",
       "    </tr>\n",
       "    <tr>\n",
       "      <th>20</th>\n",
       "      <td>3.788610</td>\n",
       "      <td>0.000044</td>\n",
       "    </tr>\n",
       "    <tr>\n",
       "      <th>22</th>\n",
       "      <td>16.176022</td>\n",
       "      <td>0.000058</td>\n",
       "    </tr>\n",
       "    <tr>\n",
       "      <th>25</th>\n",
       "      <td>138.542621</td>\n",
       "      <td>0.000064</td>\n",
       "    </tr>\n",
       "    <tr>\n",
       "      <th>27</th>\n",
       "      <td>NaN</td>\n",
       "      <td>0.000055</td>\n",
       "    </tr>\n",
       "    <tr>\n",
       "      <th>30</th>\n",
       "      <td>NaN</td>\n",
       "      <td>0.000059</td>\n",
       "    </tr>\n",
       "    <tr>\n",
       "      <th>32</th>\n",
       "      <td>NaN</td>\n",
       "      <td>0.000070</td>\n",
       "    </tr>\n",
       "    <tr>\n",
       "      <th>35</th>\n",
       "      <td>NaN</td>\n",
       "      <td>0.000064</td>\n",
       "    </tr>\n",
       "    <tr>\n",
       "      <th>37</th>\n",
       "      <td>NaN</td>\n",
       "      <td>0.000058</td>\n",
       "    </tr>\n",
       "    <tr>\n",
       "      <th>40</th>\n",
       "      <td>NaN</td>\n",
       "      <td>0.000058</td>\n",
       "    </tr>\n",
       "  </tbody>\n",
       "</table>\n",
       "</div>"
      ],
      "text/plain": [
       "    brute_force_time  heuristic_time\n",
       "n                                   \n",
       "4           0.000038        0.000026\n",
       "10          0.002232        0.000027\n",
       "15          0.102152        0.000035\n",
       "20          3.788610        0.000044\n",
       "22         16.176022        0.000058\n",
       "25        138.542621        0.000064\n",
       "27               NaN        0.000055\n",
       "30               NaN        0.000059\n",
       "32               NaN        0.000070\n",
       "35               NaN        0.000064\n",
       "37               NaN        0.000058\n",
       "40               NaN        0.000058"
      ]
     },
     "execution_count": 17,
     "metadata": {},
     "output_type": "execute_result"
    }
   ],
   "source": [
    "times = df.groupby(by='n')[['brute_force_time', 'heuristic_time']].mean()\n",
    "times"
   ]
  },
  {
   "cell_type": "code",
   "execution_count": 18,
   "metadata": {},
   "outputs": [
    {
     "data": {
      "image/png": "[encoded data removed]",
      "text/plain": [
       "<matplotlib.figure.Figure at 0x7fc4afed5d30>"
      ]
     },
     "metadata": {},
     "output_type": "display_data"
    }
   ],
   "source": [
    "fig, (ax1, ax2) = plt.subplots(nrows=1, ncols=2, figsize=(10, 4))\n",
    "# brute force\n",
    "ax1.set_yscale('log')\n",
    "ax1.scatter(ns, times['brute_force_time'], marker='x')\n",
    "ax1.set_title('Metoda hrubé síly')\n",
    "ax1.set_xticks(ns)\n",
    "ax1.set_xlabel('velikost instance')\n",
    "ax1.set_ylabel('CPU čas ($s$)')\n",
    "ax1.grid()\n",
    "\n",
    "# heuristic\n",
    "ax2.scatter(ns, times['heuristic_time'], marker='x')\n",
    "ax2.yaxis.set_major_formatter(FormatStrFormatter('%.e'))\n",
    "ax2.set_ylim([0, 1.1 * times['heuristic_time'].max()])\n",
    "ax2.set_title('Heuristická metoda')\n",
    "ax2.set_xticks(ns)\n",
    "ax2.set_xlabel('velikost instance')\n",
    "ax2.set_ylabel('CPU čas ($s$)')\n",
    "ax2.grid()\n",
    "\n",
    "fig.tight_layout()\n",
    "plt.savefig('reports/img/brute_force_heuristic_times.pdf')"
   ]
  }
 ],
 "metadata": {
  "kernelspec": {
   "display_name": "Python 3",
   "language": "python",
   "name": "python3"
  },
  "language_info": {
   "codemirror_mode": {
    "name": "ipython",
    "version": 3
   },
   "file_extension": ".py",
   "mimetype": "text/x-python",
   "name": "python",
   "nbconvert_exporter": "python",
   "pygments_lexer": "ipython3",
   "version": "3.6.3"
  }
 },
 "nbformat": 4,
 "nbformat_minor": 2
}
