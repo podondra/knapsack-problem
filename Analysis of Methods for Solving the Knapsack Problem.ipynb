{
 "cells": [
  {
   "cell_type": "markdown",
   "metadata": {},
   "source": [
    "Author: Ondřej Podsztavek"
   ]
  },
  {
   "cell_type": "markdown",
   "metadata": {},
   "source": [
    "# Problem Specification\n",
    "\n",
    "Given whole number $n$ (number of things), whole number $M$ (knapsack capacity),\n",
    "finite set $W = \\{w_1, w_2, \\dots , w_n\\}$ (things' weights),\n",
    "finite set $C = \\{c_1, c_2, \\dots , c_n\\}$ (things' price).\n",
    "Construct set $X = \\{x_1, x_2, \\dots , x_n\\}$ where all $x_i \\in \\{0, 1\\}$,\n",
    "so that $w_1 x_1 + w_2 x_2 + \\dots + w_n x_n \\leq M$ (knapsack is not overloaded)\n",
    "and expression $c_1 x_1 + c_2 x_2 + \\dots + c_n x_n$ is maximal for all such sets\n",
    "(price of things in knapsack is maximal)."
   ]
  },
  {
   "cell_type": "markdown",
   "metadata": {},
   "source": [
    "# Analysis of Possible Solution Variants\n",
    "\n",
    "This section provides descriptions of possible methods for solving the knapsack problem:\n",
    "\n",
    "1. *Brute force method* tries all possible configurations and return optimal solution.\n",
    "2. *Heuristic method* is based on  inserting according to ratio of price and weight. Solution by heuristic fill the knapsack fast, but it can find suboptimal solution. \n",
    "3. *Branch and bound method* which has same time complexity as brute force mehtod but provides two optimalizations.\n",
    "4. *Dynamic programming (decomposition by overall value)* is pseudo-polynomial algorithm and it returns optimal solution.\n",
    "5. *FPTAS algorithm for knapsack problem* allows to solve the problem with choosen error and the time complexity is not going to grow worse the polynomial."
   ]
  },
  {
   "cell_type": "code",
   "execution_count": 1,
   "metadata": {},
   "outputs": [],
   "source": [
    "import knapsack as knap\n",
    "import ast\n",
    "import timeit\n",
    "import time\n",
    "import glob\n",
    "import pandas\n",
    "import numpy\n",
    "from matplotlib import pyplot\n",
    "from matplotlib.ticker import FormatStrFormatter\n",
    "from functools import partial"
   ]
  },
  {
   "cell_type": "code",
   "execution_count": 2,
   "metadata": {},
   "outputs": [],
   "source": [
    "%matplotlib inline"
   ]
  },
  {
   "cell_type": "code",
   "execution_count": 3,
   "metadata": {},
   "outputs": [],
   "source": [
    "def read_all_instances():\n",
    "    instances = dict()\n",
    "    for filename in glob.iglob('data/knap_??.inst.dat'):\n",
    "        with open(filename) as f:\n",
    "            instances.update(knap.read_instances(f))\n",
    "\n",
    "    return pandas.DataFrame.from_dict(instances, orient='index')"
   ]
  },
  {
   "cell_type": "code",
   "execution_count": 4,
   "metadata": {},
   "outputs": [],
   "source": [
    "def read_solutions(f):\n",
    "    data = {}\n",
    "    for line in f.readlines():\n",
    "        items = list(map(int, line.split()))\n",
    "        data[items[0]] = {\n",
    "            'solution_value': items[2],\n",
    "            'solution': items[3:]\n",
    "        }\n",
    "    return data"
   ]
  },
  {
   "cell_type": "code",
   "execution_count": 5,
   "metadata": {},
   "outputs": [],
   "source": [
    "def read_all_solutions():\n",
    "    solutions = dict()\n",
    "    for filename in glob.iglob('data/knap_??.sol.dat'):\n",
    "        with open(filename) as f:\n",
    "            solutions.update(read_solutions(f))\n",
    "    return pandas.DataFrame.from_dict(solutions, orient='index')"
   ]
  },
  {
   "cell_type": "code",
   "execution_count": 6,
   "metadata": {},
   "outputs": [],
   "source": [
    "def backup_dataframe():\n",
    "    # save DataFrame\n",
    "    df.to_csv('data/dataframe-backup.csv')"
   ]
  },
  {
   "cell_type": "code",
   "execution_count": 7,
   "metadata": {},
   "outputs": [
    {
     "name": "stdout",
     "output_type": "stream",
     "text": [
      "<class 'pandas.core.frame.DataFrame'>\n",
      "Int64Index: 600 entries, 9000 to 9599\n",
      "Data columns (total 18 columns):\n",
      "n                            600 non-null int64\n",
      "m                            600 non-null int64\n",
      "weights                      600 non-null object\n",
      "values                       600 non-null object\n",
      "heuristic_time               600 non-null float64\n",
      "brute_force_time             300 non-null float64\n",
      "solution_value               600 non-null int64\n",
      "solution                     600 non-null object\n",
      "heuristic_value              600 non-null float64\n",
      "relative_error               600 non-null float64\n",
      "branch_and_bound_time        600 non-null float64\n",
      "branch_and_bound_value       600 non-null float64\n",
      "dynamic_programming_value    600 non-null float64\n",
      "dynamic_programming_time     600 non-null float64\n",
      "fptas_0.5_value              600 non-null float64\n",
      "fptas_0.75_value             600 non-null float64\n",
      "fptas_0.25_value             600 non-null float64\n",
      "fptas_0.1_value              600 non-null float64\n",
      "dtypes: float64(12), int64(3), object(3)\n",
      "memory usage: 89.1+ KB\n"
     ]
    },
    {
     "data": {
      "text/html": [
       "<div>\n",
       "<style>\n",
       "    .dataframe thead tr:only-child th {\n",
       "        text-align: right;\n",
       "    }\n",
       "\n",
       "    .dataframe thead th {\n",
       "        text-align: left;\n",
       "    }\n",
       "\n",
       "    .dataframe tbody tr th {\n",
       "        vertical-align: top;\n",
       "    }\n",
       "</style>\n",
       "<table border=\"1\" class=\"dataframe\">\n",
       "  <thead>\n",
       "    <tr style=\"text-align: right;\">\n",
       "      <th></th>\n",
       "      <th>n</th>\n",
       "      <th>m</th>\n",
       "      <th>weights</th>\n",
       "      <th>values</th>\n",
       "      <th>heuristic_time</th>\n",
       "      <th>brute_force_time</th>\n",
       "      <th>solution_value</th>\n",
       "      <th>solution</th>\n",
       "      <th>heuristic_value</th>\n",
       "      <th>relative_error</th>\n",
       "      <th>branch_and_bound_time</th>\n",
       "      <th>branch_and_bound_value</th>\n",
       "      <th>dynamic_programming_value</th>\n",
       "      <th>dynamic_programming_time</th>\n",
       "      <th>fptas_0.5_value</th>\n",
       "      <th>fptas_0.75_value</th>\n",
       "      <th>fptas_0.25_value</th>\n",
       "      <th>fptas_0.1_value</th>\n",
       "    </tr>\n",
       "  </thead>\n",
       "  <tbody>\n",
       "    <tr>\n",
       "      <th>9000</th>\n",
       "      <td>4</td>\n",
       "      <td>100</td>\n",
       "      <td>[18, 42, 88, 3]</td>\n",
       "      <td>[114, 136, 192, 223]</td>\n",
       "      <td>0.000037</td>\n",
       "      <td>0.000055</td>\n",
       "      <td>473</td>\n",
       "      <td>[1, 1, 0, 1]</td>\n",
       "      <td>473.0</td>\n",
       "      <td>0.000000</td>\n",
       "      <td>0.000030</td>\n",
       "      <td>473.0</td>\n",
       "      <td>473.0</td>\n",
       "      <td>0.031192</td>\n",
       "      <td>473.0</td>\n",
       "      <td>473.0</td>\n",
       "      <td>473.0</td>\n",
       "      <td>473.0</td>\n",
       "    </tr>\n",
       "    <tr>\n",
       "      <th>9001</th>\n",
       "      <td>4</td>\n",
       "      <td>100</td>\n",
       "      <td>[55, 81, 14, 52]</td>\n",
       "      <td>[29, 64, 104, 222]</td>\n",
       "      <td>0.000030</td>\n",
       "      <td>0.000055</td>\n",
       "      <td>326</td>\n",
       "      <td>[0, 0, 1, 1]</td>\n",
       "      <td>326.0</td>\n",
       "      <td>0.000000</td>\n",
       "      <td>0.000037</td>\n",
       "      <td>326.0</td>\n",
       "      <td>326.0</td>\n",
       "      <td>0.016173</td>\n",
       "      <td>326.0</td>\n",
       "      <td>326.0</td>\n",
       "      <td>326.0</td>\n",
       "      <td>326.0</td>\n",
       "    </tr>\n",
       "    <tr>\n",
       "      <th>9002</th>\n",
       "      <td>4</td>\n",
       "      <td>100</td>\n",
       "      <td>[89, 18, 57, 69]</td>\n",
       "      <td>[196, 62, 34, 112]</td>\n",
       "      <td>0.000027</td>\n",
       "      <td>0.000051</td>\n",
       "      <td>196</td>\n",
       "      <td>[1, 0, 0, 0]</td>\n",
       "      <td>174.0</td>\n",
       "      <td>0.112245</td>\n",
       "      <td>0.000040</td>\n",
       "      <td>196.0</td>\n",
       "      <td>196.0</td>\n",
       "      <td>0.015611</td>\n",
       "      <td>196.0</td>\n",
       "      <td>196.0</td>\n",
       "      <td>196.0</td>\n",
       "      <td>196.0</td>\n",
       "    </tr>\n",
       "    <tr>\n",
       "      <th>9003</th>\n",
       "      <td>4</td>\n",
       "      <td>100</td>\n",
       "      <td>[34, 23, 62, 2]</td>\n",
       "      <td>[169, 152, 44, 224]</td>\n",
       "      <td>0.000029</td>\n",
       "      <td>0.000059</td>\n",
       "      <td>545</td>\n",
       "      <td>[1, 1, 0, 1]</td>\n",
       "      <td>545.0</td>\n",
       "      <td>0.000000</td>\n",
       "      <td>0.000035</td>\n",
       "      <td>545.0</td>\n",
       "      <td>545.0</td>\n",
       "      <td>0.022405</td>\n",
       "      <td>545.0</td>\n",
       "      <td>545.0</td>\n",
       "      <td>545.0</td>\n",
       "      <td>545.0</td>\n",
       "    </tr>\n",
       "    <tr>\n",
       "      <th>9004</th>\n",
       "      <td>4</td>\n",
       "      <td>100</td>\n",
       "      <td>[67, 74, 87, 65]</td>\n",
       "      <td>[145, 111, 139, 243]</td>\n",
       "      <td>0.000023</td>\n",
       "      <td>0.000061</td>\n",
       "      <td>243</td>\n",
       "      <td>[0, 0, 0, 1]</td>\n",
       "      <td>243.0</td>\n",
       "      <td>0.000000</td>\n",
       "      <td>0.000030</td>\n",
       "      <td>243.0</td>\n",
       "      <td>243.0</td>\n",
       "      <td>0.023797</td>\n",
       "      <td>243.0</td>\n",
       "      <td>243.0</td>\n",
       "      <td>243.0</td>\n",
       "      <td>243.0</td>\n",
       "    </tr>\n",
       "  </tbody>\n",
       "</table>\n",
       "</div>"
      ],
      "text/plain": [
       "      n    m           weights                values  heuristic_time  \\\n",
       "9000  4  100   [18, 42, 88, 3]  [114, 136, 192, 223]        0.000037   \n",
       "9001  4  100  [55, 81, 14, 52]    [29, 64, 104, 222]        0.000030   \n",
       "9002  4  100  [89, 18, 57, 69]    [196, 62, 34, 112]        0.000027   \n",
       "9003  4  100   [34, 23, 62, 2]   [169, 152, 44, 224]        0.000029   \n",
       "9004  4  100  [67, 74, 87, 65]  [145, 111, 139, 243]        0.000023   \n",
       "\n",
       "      brute_force_time  solution_value      solution  heuristic_value  \\\n",
       "9000          0.000055             473  [1, 1, 0, 1]            473.0   \n",
       "9001          0.000055             326  [0, 0, 1, 1]            326.0   \n",
       "9002          0.000051             196  [1, 0, 0, 0]            174.0   \n",
       "9003          0.000059             545  [1, 1, 0, 1]            545.0   \n",
       "9004          0.000061             243  [0, 0, 0, 1]            243.0   \n",
       "\n",
       "      relative_error  branch_and_bound_time  branch_and_bound_value  \\\n",
       "9000        0.000000               0.000030                   473.0   \n",
       "9001        0.000000               0.000037                   326.0   \n",
       "9002        0.112245               0.000040                   196.0   \n",
       "9003        0.000000               0.000035                   545.0   \n",
       "9004        0.000000               0.000030                   243.0   \n",
       "\n",
       "      dynamic_programming_value  dynamic_programming_time  fptas_0.5_value  \\\n",
       "9000                      473.0                  0.031192            473.0   \n",
       "9001                      326.0                  0.016173            326.0   \n",
       "9002                      196.0                  0.015611            196.0   \n",
       "9003                      545.0                  0.022405            545.0   \n",
       "9004                      243.0                  0.023797            243.0   \n",
       "\n",
       "      fptas_0.75_value  fptas_0.25_value  fptas_0.1_value  \n",
       "9000             473.0             473.0            473.0  \n",
       "9001             326.0             326.0            326.0  \n",
       "9002             196.0             196.0            196.0  \n",
       "9003             545.0             545.0            545.0  \n",
       "9004             243.0             243.0            243.0  "
      ]
     },
     "execution_count": 7,
     "metadata": {},
     "output_type": "execute_result"
    }
   ],
   "source": [
    "# restore DataFrame\n",
    "generic = lambda x: ast.literal_eval(x)\n",
    "converters = {\n",
    "    'weights': generic,\n",
    "    'values': generic,\n",
    "    'solution': generic\n",
    "}\n",
    "df = pandas.read_csv('data/dataframe-backup.csv', index_col=0, converters=converters)\n",
    "df.info()\n",
    "df.head()"
   ]
  },
  {
   "cell_type": "code",
   "execution_count": 8,
   "metadata": {},
   "outputs": [],
   "source": [
    "ns = [4, 10, 15, 20, 22, 25, 27, 30, 32, 35, 37, 40]"
   ]
  },
  {
   "cell_type": "code",
   "execution_count": 9,
   "metadata": {},
   "outputs": [],
   "source": [
    "def time_instances(fn, ns, df, time_column):\n",
    "    for n in ns:\n",
    "        for idx, inst in df[df['n'] == n].iterrows():\n",
    "            global inst_fn  # TODO global allows to make import from __main__\n",
    "            inst_fn = partial(fn, *inst[['n', 'm', 'weights', 'values']])\n",
    "            timer = timeit.Timer('inst_fn()', setup='from __main__ import inst_fn', timer=time.process_time)\n",
    "            t = timer.timeit(number=1)\n",
    "            df.loc[idx, time_column] = t\n",
    "            print(idx, inst['n'], t)"
   ]
  },
  {
   "cell_type": "markdown",
   "metadata": {},
   "source": [
    "## Brute Force Method\n",
    "\n",
    "This method remember the best cost of solution and corresponding configurations.\n",
    "For every configuration it check the constrain and compute the optimization criterion.\n",
    "Its value is compared to the best value computed so far and if needed the best value is modified.\n",
    "After testing all configurations the method has the optimal solution saved.\n",
    "Complexity of this method is $\\Theta(n2^n)$ where $n$ is instance size because count of all possible knapsack\n",
    "fillings is $2^n$ and for each of them constrain and optimization criterion has to be computed in time $\\Theta(n)$."
   ]
  },
  {
   "cell_type": "code",
   "execution_count": 10,
   "metadata": {
    "scrolled": true
   },
   "outputs": [],
   "source": [
    "time_instances(knap.brute_force, [], df, 'brute_force_time')"
   ]
  },
  {
   "cell_type": "markdown",
   "metadata": {},
   "source": [
    "## Heuristic Method\n",
    "\n",
    "This method calculates ratio of price and weight ($\\frac{c_i}{w_i}$) for each thing.\n",
    "According to this ratio the thing are sorted in descending order\n",
    "(if the ratio is the same then the lighter thing is preferred).\n",
    "Things are inserted into the knapsack in the sorted order until the knapsack is full.\n",
    "Heuristic method's complexity is $O(n\\log{n})$ because complexity of sorting Python function `sorted()` is\n",
    "$O(n\\log{n})$ (viz [Timsort](https://en.wikipedia.org/wiki/Timsort))\n",
    "and complexity of knapsack filling is only $O(n)$."
   ]
  },
  {
   "cell_type": "code",
   "execution_count": 11,
   "metadata": {
    "scrolled": true
   },
   "outputs": [],
   "source": [
    "time_instances(knap.heuristic, [], df, 'heuristic_time')"
   ]
  },
  {
   "cell_type": "code",
   "execution_count": 12,
   "metadata": {},
   "outputs": [],
   "source": [
    "def solve_instances(fn, ns, df, solution_column):\n",
    "    for n in ns:\n",
    "        for idx, inst in df[df['n'] == n].iterrows():\n",
    "            value, _ = fn(*inst[['n', 'm', 'weights', 'values']])\n",
    "            df.loc[idx, solution_column] = value\n",
    "            print(idx, inst['n'], value)"
   ]
  },
  {
   "cell_type": "code",
   "execution_count": 13,
   "metadata": {},
   "outputs": [],
   "source": [
    "solve_instances(knap.heuristic, [], df, 'heuristic_value')"
   ]
  },
  {
   "cell_type": "code",
   "execution_count": 14,
   "metadata": {},
   "outputs": [],
   "source": [
    "def heuristic_relative_error():\n",
    "    df['relative_error'] = (df['solution_value'] - df['heuristic_value']) / df['solution_value']"
   ]
  },
  {
   "cell_type": "code",
   "execution_count": 16,
   "metadata": {},
   "outputs": [
    {
     "data": {
      "image/png": "[encoded data removed]",
      "text/plain": [
       "<matplotlib.figure.Figure at 0x7fe4b9a822e8>"
      ]
     },
     "metadata": {},
     "output_type": "display_data"
    }
   ],
   "source": [
    "group = df.groupby(by='n')['relative_error']\n",
    "mean_error = group.mean()\n",
    "max_error = group.max()\n",
    "\n",
    "ax = pyplot.subplot()\n",
    "ax.set_title('Heuristic Method Relative Error')\n",
    "ax.scatter(ns, max_error, marker='x', label='maximal relative error')\n",
    "ax.scatter(ns, mean_error, marker='x', label='average relative error')\n",
    "ax.set_xticks(ns)\n",
    "ax.set_ylabel('relative error')\n",
    "ax.set_xlabel('instance size')\n",
    "ax.legend()\n",
    "ax.grid()\n",
    "\n",
    "pyplot.savefig('img/heuristic_relative_error.pdf')"
   ]
  },
  {
   "cell_type": "markdown",
   "metadata": {},
   "source": [
    "## Branch and Bound\n",
    "\n",
    "This method works similarly as brute force method. It recursively solves the problem. If in some recursive step the weight of things in knapsack is higher then its capacity the branch is discarted. Secondly, the methods holds the best value obtained so far. A branch is ended if in some recursive step value of undecided things cannot improve the best value. The recursive tree can be prune a lot but time complexity of this algorithm is still $O(2^n)$."
   ]
  },
  {
   "cell_type": "code",
   "execution_count": 53,
   "metadata": {},
   "outputs": [],
   "source": [
    "time_instances(knap.branch_and_bound, [], df, 'branch_and_bound_time')"
   ]
  },
  {
   "cell_type": "code",
   "execution_count": 18,
   "metadata": {},
   "outputs": [
    {
     "data": {
      "text/plain": [
       "True"
      ]
     },
     "execution_count": 18,
     "metadata": {},
     "output_type": "execute_result"
    }
   ],
   "source": [
    "solve_instances(knap.branch_and_bound, [], df, 'branch_and_bound_value')\n",
    "(df['branch_and_bound_value'] == df['solution_value']).all()"
   ]
  },
  {
   "cell_type": "markdown",
   "metadata": {},
   "source": [
    "## Dynamic Programming\n",
    "\n",
    "TODO"
   ]
  },
  {
   "cell_type": "code",
   "execution_count": 19,
   "metadata": {},
   "outputs": [],
   "source": [
    "time_instances(knap.dynamic_programming, [], df, 'dynamic_programming_time')"
   ]
  },
  {
   "cell_type": "code",
   "execution_count": 21,
   "metadata": {
    "scrolled": false
   },
   "outputs": [
    {
     "data": {
      "text/plain": [
       "True"
      ]
     },
     "execution_count": 21,
     "metadata": {},
     "output_type": "execute_result"
    }
   ],
   "source": [
    "solve_instances(knap.dynamic_programming, [], df, 'dynamic_programming_value')\n",
    "(df['dynamic_programming_value'] == df['solution_value']).all()"
   ]
  },
  {
   "cell_type": "markdown",
   "metadata": {},
   "source": [
    "## FPTAS (Fully Polynomial-Time Approximation Scheme)\n",
    "\n",
    "TODO"
   ]
  },
  {
   "cell_type": "code",
   "execution_count": 23,
   "metadata": {
    "scrolled": true
   },
   "outputs": [],
   "source": [
    "for e in [0.5, 0.25, 0.1]:\n",
    "    time_instances(partial(knap.fptas, relative_error=e), [], df, 'fptas_' + str(e) + '_time')\n",
    "    solve_instances(partial(knap.fptas, relative_error=e), [], df, 'fptas_' + str(e) + '_value')"
   ]
  },
  {
   "cell_type": "markdown",
   "metadata": {},
   "source": [
    "# Measured Results\n",
    "\n",
    "Table below contains average CPU time of computations of each instance sizes.\n",
    "Measuring was carried out on processor *Intel(R) Core(TM) i5-3337U CPU @ 1.80GHz*.\n",
    "Times for brute force method on instance of size 27 where not possible to measure because of computational complexity.\n",
    "\n",
    "instance size | brute force, CPU time ($s$) | heuristic, CPU time ($s$) | branch and bound, CPU time ($s$) | dynamic programming, CPU time ($s$)\n",
    "--:|-----------:|---------:| --------:|---------:\n",
    "4  |   0.000038 | 0.000026 | 0.000032 | 0.019083\n",
    "10 |   0.002232 | 0.000027 | 0.000184 | 0.128957\n",
    "15 |   0.102152 | 0.000035 | 0.000281 | 0.226531\n",
    "20 |   3.788610 | 0.000044 | 0.002965 | 0.461762\n",
    "22 |  16.176022 | 0.000058 | 0.009661 | 0.530528\n",
    "25 | 138.542621 | 0.000064 | 0.021655 | 0.704964\n",
    "27 |            | 0.000055 | 0.035915 | 0.772885\n",
    "30 |            | 0.000059 | 0.117377 | 0.942580\n",
    "32 |            | 0.000070 | 0.222888 | 1.069233\n",
    "35 |            | 0.000064 | 0.659761 | 1.259632\n",
    "37 |            | 0.000058 | 0.737257 | 1.397729\n",
    "40 |            | 0.000058 | 4.032605 | 1.658905\n",
    "\n",
    "Figure 1 shows dependence of time on instance size.\n",
    "Figure 2 shows dependence of relative error on instance size.\n",
    "Relative error $\\epsilon$ is calculated as $\\epsilon = \\frac{c(\\text{opt}) - c(\\text{apx})}{c(\\text{opt})}$,\n",
    "where $c(\\text{opt})$ is cost of optimal and $c(\\text{apx})$ is cost of suboptimal solution.\n",
    "\n",
    "![Figure 1: Brute force and heuristic method average computational CPU time.](img/brute_force_heuristic_times.pdf)\n",
    "\n",
    "![Figure 2: Heuristic method relative error.](img/heuristic_relative_error.pdf)"
   ]
  },
  {
   "cell_type": "code",
   "execution_count": 61,
   "metadata": {},
   "outputs": [
    {
     "data": {
      "text/plain": [
       "n\n",
       "4     0.019083\n",
       "10    0.128957\n",
       "15    0.226531\n",
       "20    0.461762\n",
       "22    0.530528\n",
       "25    0.704964\n",
       "27    0.772885\n",
       "30    0.942580\n",
       "32    1.069233\n",
       "35    1.259632\n",
       "37    1.397729\n",
       "40    1.658905\n",
       "Name: dynamic_programming_time, dtype: float64"
      ]
     },
     "execution_count": 61,
     "metadata": {},
     "output_type": "execute_result"
    }
   ],
   "source": [
    "times_mean['dynamic_programming_time']"
   ]
  },
  {
   "cell_type": "code",
   "execution_count": 54,
   "metadata": {
    "scrolled": false
   },
   "outputs": [
    {
     "data": {
      "text/html": [
       "<div>\n",
       "<style>\n",
       "    .dataframe thead tr:only-child th {\n",
       "        text-align: right;\n",
       "    }\n",
       "\n",
       "    .dataframe thead th {\n",
       "        text-align: left;\n",
       "    }\n",
       "\n",
       "    .dataframe tbody tr th {\n",
       "        vertical-align: top;\n",
       "    }\n",
       "</style>\n",
       "<table border=\"1\" class=\"dataframe\">\n",
       "  <thead>\n",
       "    <tr style=\"text-align: right;\">\n",
       "      <th></th>\n",
       "      <th>brute_force_time</th>\n",
       "      <th>heuristic_time</th>\n",
       "      <th>branch_and_bound_time</th>\n",
       "      <th>dynamic_programming_time</th>\n",
       "      <th>fptas_0.5_time</th>\n",
       "      <th>fptas_0.25_time</th>\n",
       "      <th>fptas_0.1_time</th>\n",
       "    </tr>\n",
       "    <tr>\n",
       "      <th>n</th>\n",
       "      <th></th>\n",
       "      <th></th>\n",
       "      <th></th>\n",
       "      <th></th>\n",
       "      <th></th>\n",
       "      <th></th>\n",
       "      <th></th>\n",
       "    </tr>\n",
       "  </thead>\n",
       "  <tbody>\n",
       "    <tr>\n",
       "      <th>4</th>\n",
       "      <td>0.000038</td>\n",
       "      <td>0.000026</td>\n",
       "      <td>0.000032</td>\n",
       "      <td>0.019083</td>\n",
       "      <td>0.000908</td>\n",
       "      <td>0.001623</td>\n",
       "      <td>0.003787</td>\n",
       "    </tr>\n",
       "    <tr>\n",
       "      <th>10</th>\n",
       "      <td>0.002232</td>\n",
       "      <td>0.000027</td>\n",
       "      <td>0.000184</td>\n",
       "      <td>0.128957</td>\n",
       "      <td>0.011387</td>\n",
       "      <td>0.020090</td>\n",
       "      <td>0.050181</td>\n",
       "    </tr>\n",
       "    <tr>\n",
       "      <th>15</th>\n",
       "      <td>0.102152</td>\n",
       "      <td>0.000035</td>\n",
       "      <td>0.000281</td>\n",
       "      <td>0.226531</td>\n",
       "      <td>0.037538</td>\n",
       "      <td>0.060854</td>\n",
       "      <td>0.145518</td>\n",
       "    </tr>\n",
       "    <tr>\n",
       "      <th>20</th>\n",
       "      <td>3.788610</td>\n",
       "      <td>0.000044</td>\n",
       "      <td>0.002965</td>\n",
       "      <td>0.461762</td>\n",
       "      <td>0.089155</td>\n",
       "      <td>0.140829</td>\n",
       "      <td>0.342327</td>\n",
       "    </tr>\n",
       "    <tr>\n",
       "      <th>22</th>\n",
       "      <td>16.176022</td>\n",
       "      <td>0.000058</td>\n",
       "      <td>0.009661</td>\n",
       "      <td>0.530528</td>\n",
       "      <td>0.095749</td>\n",
       "      <td>0.180159</td>\n",
       "      <td>0.478413</td>\n",
       "    </tr>\n",
       "    <tr>\n",
       "      <th>25</th>\n",
       "      <td>138.542621</td>\n",
       "      <td>0.000064</td>\n",
       "      <td>0.021655</td>\n",
       "      <td>0.704964</td>\n",
       "      <td>0.135837</td>\n",
       "      <td>0.309871</td>\n",
       "      <td>0.691213</td>\n",
       "    </tr>\n",
       "    <tr>\n",
       "      <th>27</th>\n",
       "      <td>NaN</td>\n",
       "      <td>0.000055</td>\n",
       "      <td>0.035915</td>\n",
       "      <td>0.772885</td>\n",
       "      <td>0.164916</td>\n",
       "      <td>0.334847</td>\n",
       "      <td>0.819459</td>\n",
       "    </tr>\n",
       "    <tr>\n",
       "      <th>30</th>\n",
       "      <td>NaN</td>\n",
       "      <td>0.000059</td>\n",
       "      <td>0.117377</td>\n",
       "      <td>0.942580</td>\n",
       "      <td>0.239953</td>\n",
       "      <td>0.460975</td>\n",
       "      <td>1.148475</td>\n",
       "    </tr>\n",
       "    <tr>\n",
       "      <th>32</th>\n",
       "      <td>NaN</td>\n",
       "      <td>0.000070</td>\n",
       "      <td>0.222888</td>\n",
       "      <td>1.069233</td>\n",
       "      <td>0.311098</td>\n",
       "      <td>0.536905</td>\n",
       "      <td>1.346134</td>\n",
       "    </tr>\n",
       "    <tr>\n",
       "      <th>35</th>\n",
       "      <td>NaN</td>\n",
       "      <td>0.000064</td>\n",
       "      <td>0.659761</td>\n",
       "      <td>1.259632</td>\n",
       "      <td>0.358372</td>\n",
       "      <td>0.717600</td>\n",
       "      <td>1.771649</td>\n",
       "    </tr>\n",
       "    <tr>\n",
       "      <th>37</th>\n",
       "      <td>NaN</td>\n",
       "      <td>0.000058</td>\n",
       "      <td>0.737257</td>\n",
       "      <td>1.397729</td>\n",
       "      <td>0.411541</td>\n",
       "      <td>0.811933</td>\n",
       "      <td>2.038553</td>\n",
       "    </tr>\n",
       "    <tr>\n",
       "      <th>40</th>\n",
       "      <td>NaN</td>\n",
       "      <td>0.000058</td>\n",
       "      <td>4.032605</td>\n",
       "      <td>1.658905</td>\n",
       "      <td>0.522565</td>\n",
       "      <td>1.038683</td>\n",
       "      <td>2.608637</td>\n",
       "    </tr>\n",
       "  </tbody>\n",
       "</table>\n",
       "</div>"
      ],
      "text/plain": [
       "    brute_force_time  heuristic_time  branch_and_bound_time  \\\n",
       "n                                                             \n",
       "4           0.000038        0.000026               0.000032   \n",
       "10          0.002232        0.000027               0.000184   \n",
       "15          0.102152        0.000035               0.000281   \n",
       "20          3.788610        0.000044               0.002965   \n",
       "22         16.176022        0.000058               0.009661   \n",
       "25        138.542621        0.000064               0.021655   \n",
       "27               NaN        0.000055               0.035915   \n",
       "30               NaN        0.000059               0.117377   \n",
       "32               NaN        0.000070               0.222888   \n",
       "35               NaN        0.000064               0.659761   \n",
       "37               NaN        0.000058               0.737257   \n",
       "40               NaN        0.000058               4.032605   \n",
       "\n",
       "    dynamic_programming_time  fptas_0.5_time  fptas_0.25_time  fptas_0.1_time  \n",
       "n                                                                              \n",
       "4                   0.019083        0.000908         0.001623        0.003787  \n",
       "10                  0.128957        0.011387         0.020090        0.050181  \n",
       "15                  0.226531        0.037538         0.060854        0.145518  \n",
       "20                  0.461762        0.089155         0.140829        0.342327  \n",
       "22                  0.530528        0.095749         0.180159        0.478413  \n",
       "25                  0.704964        0.135837         0.309871        0.691213  \n",
       "27                  0.772885        0.164916         0.334847        0.819459  \n",
       "30                  0.942580        0.239953         0.460975        1.148475  \n",
       "32                  1.069233        0.311098         0.536905        1.346134  \n",
       "35                  1.259632        0.358372         0.717600        1.771649  \n",
       "37                  1.397729        0.411541         0.811933        2.038553  \n",
       "40                  1.658905        0.522565         1.038683        2.608637  "
      ]
     },
     "execution_count": 54,
     "metadata": {},
     "output_type": "execute_result"
    }
   ],
   "source": [
    "times_idx = ['brute_force_time', 'heuristic_time', 'branch_and_bound_time', 'dynamic_programming_time',\n",
    "             'fptas_0.5_time', 'fptas_0.25_time', 'fptas_0.1_time']\n",
    "times_group = df.groupby(by='n')[times_idx]\n",
    "times_mean = times_group.mean()\n",
    "times_std = times_group.std()\n",
    "times_mean"
   ]
  },
  {
   "cell_type": "code",
   "execution_count": 55,
   "metadata": {},
   "outputs": [
    {
     "data": {
      "text/html": [
       "<div>\n",
       "<style>\n",
       "    .dataframe thead tr:only-child th {\n",
       "        text-align: right;\n",
       "    }\n",
       "\n",
       "    .dataframe thead th {\n",
       "        text-align: left;\n",
       "    }\n",
       "\n",
       "    .dataframe tbody tr th {\n",
       "        vertical-align: top;\n",
       "    }\n",
       "</style>\n",
       "<table border=\"1\" class=\"dataframe\">\n",
       "  <thead>\n",
       "    <tr style=\"text-align: right;\">\n",
       "      <th></th>\n",
       "      <th>brute_force_time</th>\n",
       "      <th>heuristic_time</th>\n",
       "      <th>branch_and_bound_time</th>\n",
       "      <th>dynamic_programming_time</th>\n",
       "      <th>fptas_0.5_time</th>\n",
       "      <th>fptas_0.25_time</th>\n",
       "      <th>fptas_0.1_time</th>\n",
       "    </tr>\n",
       "    <tr>\n",
       "      <th>n</th>\n",
       "      <th></th>\n",
       "      <th></th>\n",
       "      <th></th>\n",
       "      <th></th>\n",
       "      <th></th>\n",
       "      <th></th>\n",
       "      <th></th>\n",
       "    </tr>\n",
       "  </thead>\n",
       "  <tbody>\n",
       "    <tr>\n",
       "      <th>4</th>\n",
       "      <td>0.000012</td>\n",
       "      <td>0.000007</td>\n",
       "      <td>0.000009</td>\n",
       "      <td>0.005649</td>\n",
       "      <td>0.000290</td>\n",
       "      <td>0.000387</td>\n",
       "      <td>0.001065</td>\n",
       "    </tr>\n",
       "    <tr>\n",
       "      <th>10</th>\n",
       "      <td>0.000404</td>\n",
       "      <td>0.000005</td>\n",
       "      <td>0.000121</td>\n",
       "      <td>0.037941</td>\n",
       "      <td>0.003347</td>\n",
       "      <td>0.003711</td>\n",
       "      <td>0.008956</td>\n",
       "    </tr>\n",
       "    <tr>\n",
       "      <th>15</th>\n",
       "      <td>0.014299</td>\n",
       "      <td>0.000011</td>\n",
       "      <td>0.000487</td>\n",
       "      <td>0.042246</td>\n",
       "      <td>0.010832</td>\n",
       "      <td>0.011280</td>\n",
       "      <td>0.025310</td>\n",
       "    </tr>\n",
       "    <tr>\n",
       "      <th>20</th>\n",
       "      <td>0.241654</td>\n",
       "      <td>0.000013</td>\n",
       "      <td>0.003910</td>\n",
       "      <td>0.101599</td>\n",
       "      <td>0.018531</td>\n",
       "      <td>0.023008</td>\n",
       "      <td>0.055061</td>\n",
       "    </tr>\n",
       "    <tr>\n",
       "      <th>22</th>\n",
       "      <td>0.804018</td>\n",
       "      <td>0.000021</td>\n",
       "      <td>0.013283</td>\n",
       "      <td>0.100791</td>\n",
       "      <td>0.018544</td>\n",
       "      <td>0.028308</td>\n",
       "      <td>0.097470</td>\n",
       "    </tr>\n",
       "    <tr>\n",
       "      <th>25</th>\n",
       "      <td>3.342785</td>\n",
       "      <td>0.000021</td>\n",
       "      <td>0.019179</td>\n",
       "      <td>0.154486</td>\n",
       "      <td>0.022117</td>\n",
       "      <td>0.066970</td>\n",
       "      <td>0.131161</td>\n",
       "    </tr>\n",
       "    <tr>\n",
       "      <th>27</th>\n",
       "      <td>NaN</td>\n",
       "      <td>0.000017</td>\n",
       "      <td>0.044135</td>\n",
       "      <td>0.137328</td>\n",
       "      <td>0.027394</td>\n",
       "      <td>0.054848</td>\n",
       "      <td>0.127746</td>\n",
       "    </tr>\n",
       "    <tr>\n",
       "      <th>30</th>\n",
       "      <td>NaN</td>\n",
       "      <td>0.000016</td>\n",
       "      <td>0.124169</td>\n",
       "      <td>0.148166</td>\n",
       "      <td>0.045620</td>\n",
       "      <td>0.071965</td>\n",
       "      <td>0.177318</td>\n",
       "    </tr>\n",
       "    <tr>\n",
       "      <th>32</th>\n",
       "      <td>NaN</td>\n",
       "      <td>0.000022</td>\n",
       "      <td>0.500484</td>\n",
       "      <td>0.196747</td>\n",
       "      <td>0.064127</td>\n",
       "      <td>0.085291</td>\n",
       "      <td>0.219882</td>\n",
       "    </tr>\n",
       "    <tr>\n",
       "      <th>35</th>\n",
       "      <td>NaN</td>\n",
       "      <td>0.000022</td>\n",
       "      <td>0.976203</td>\n",
       "      <td>0.212044</td>\n",
       "      <td>0.056928</td>\n",
       "      <td>0.123385</td>\n",
       "      <td>0.293072</td>\n",
       "    </tr>\n",
       "    <tr>\n",
       "      <th>37</th>\n",
       "      <td>NaN</td>\n",
       "      <td>0.000015</td>\n",
       "      <td>0.924035</td>\n",
       "      <td>0.247058</td>\n",
       "      <td>0.068014</td>\n",
       "      <td>0.133572</td>\n",
       "      <td>0.333268</td>\n",
       "    </tr>\n",
       "    <tr>\n",
       "      <th>40</th>\n",
       "      <td>NaN</td>\n",
       "      <td>0.000012</td>\n",
       "      <td>4.743078</td>\n",
       "      <td>0.259757</td>\n",
       "      <td>0.081415</td>\n",
       "      <td>0.163164</td>\n",
       "      <td>0.412438</td>\n",
       "    </tr>\n",
       "  </tbody>\n",
       "</table>\n",
       "</div>"
      ],
      "text/plain": [
       "    brute_force_time  heuristic_time  branch_and_bound_time  \\\n",
       "n                                                             \n",
       "4           0.000012        0.000007               0.000009   \n",
       "10          0.000404        0.000005               0.000121   \n",
       "15          0.014299        0.000011               0.000487   \n",
       "20          0.241654        0.000013               0.003910   \n",
       "22          0.804018        0.000021               0.013283   \n",
       "25          3.342785        0.000021               0.019179   \n",
       "27               NaN        0.000017               0.044135   \n",
       "30               NaN        0.000016               0.124169   \n",
       "32               NaN        0.000022               0.500484   \n",
       "35               NaN        0.000022               0.976203   \n",
       "37               NaN        0.000015               0.924035   \n",
       "40               NaN        0.000012               4.743078   \n",
       "\n",
       "    dynamic_programming_time  fptas_0.5_time  fptas_0.25_time  fptas_0.1_time  \n",
       "n                                                                              \n",
       "4                   0.005649        0.000290         0.000387        0.001065  \n",
       "10                  0.037941        0.003347         0.003711        0.008956  \n",
       "15                  0.042246        0.010832         0.011280        0.025310  \n",
       "20                  0.101599        0.018531         0.023008        0.055061  \n",
       "22                  0.100791        0.018544         0.028308        0.097470  \n",
       "25                  0.154486        0.022117         0.066970        0.131161  \n",
       "27                  0.137328        0.027394         0.054848        0.127746  \n",
       "30                  0.148166        0.045620         0.071965        0.177318  \n",
       "32                  0.196747        0.064127         0.085291        0.219882  \n",
       "35                  0.212044        0.056928         0.123385        0.293072  \n",
       "37                  0.247058        0.068014         0.133572        0.333268  \n",
       "40                  0.259757        0.081415         0.163164        0.412438  "
      ]
     },
     "execution_count": 55,
     "metadata": {},
     "output_type": "execute_result"
    }
   ],
   "source": [
    "times_std"
   ]
  },
  {
   "cell_type": "code",
   "execution_count": 56,
   "metadata": {},
   "outputs": [
    {
     "data": {
      "image/png": "[encoded data removed]",
      "text/plain": [
       "<matplotlib.figure.Figure at 0x7fe4b6f607f0>"
      ]
     },
     "metadata": {},
     "output_type": "display_data"
    }
   ],
   "source": [
    "fig, (ax1, ax2) = pyplot.subplots(nrows=1, ncols=2, figsize=(10, 4))\n",
    "# brute force\n",
    "ax1.set_yscale('log')\n",
    "ax1.scatter(ns, times_mean['brute_force_time'], marker='x')\n",
    "ax1.set_title('Brute Force Method')\n",
    "ax1.set_xticks(ns)\n",
    "ax1.set_xlabel('instance size')\n",
    "ax1.set_ylabel('CPU time ($s$)')\n",
    "ax1.grid()\n",
    "\n",
    "# heuristic\n",
    "ax2.scatter(ns, times_mean['heuristic_time'], marker='x')\n",
    "ax2.yaxis.set_major_formatter(FormatStrFormatter('%.e'))\n",
    "ax2.set_ylim([0, 1.1 * times_mean['heuristic_time'].max()])\n",
    "ax2.set_title('Heuristic Method')\n",
    "ax2.set_xticks(ns)\n",
    "ax2.set_xlabel('instance size')\n",
    "ax2.set_ylabel('CPU time ($s$)')\n",
    "ax2.grid()\n",
    "\n",
    "fig.tight_layout()\n",
    "pyplot.savefig('img/brute_force_heuristic_times.pdf')"
   ]
  },
  {
   "cell_type": "code",
   "execution_count": 58,
   "metadata": {
    "scrolled": false
   },
   "outputs": [
    {
     "data": {
      "image/png": "[encoded data removed]",
      "text/plain": [
       "<matplotlib.figure.Figure at 0x7fe4b6e0ff28>"
      ]
     },
     "metadata": {},
     "output_type": "display_data"
    }
   ],
   "source": [
    "fig, (ax1, ax2) = pyplot.subplots(nrows=1, ncols=2, sharey=True, figsize=(10, 4))\n",
    "\n",
    "ax1.set_title('Branch and Bound Method')\n",
    "ax1.scatter(ns, times_mean['branch_and_bound_time'], marker='x', label='branch and bound')\n",
    "ax2.scatter(ns, times_mean['dynamic_programming_time'], marker='x', label='dynamic programming')\n",
    "\n",
    "ax2.set_title('Dynamic Programming and FPTAS')\n",
    "ax2.scatter(ns, times_mean['fptas_0.5_time'], marker='x', label='FPTAS 0.5')\n",
    "ax2.scatter(ns, times_mean['fptas_0.25_time'], marker='x', label='FPTAS 0.25')\n",
    "ax2.scatter(ns, times_mean['fptas_0.1_time'], marker='x', label='FPTAS 0.1')\n",
    "\n",
    "for ax in (ax1, ax2):\n",
    "    ax.legend()\n",
    "    ax.set_xticks(ns)\n",
    "    ax.set_xlabel('instance size')\n",
    "    ax.set_ylabel('CPU time ($s$)')\n",
    "    ax.grid()"
   ]
  },
  {
   "cell_type": "markdown",
   "metadata": {},
   "source": [
    "# Conclusion\n",
    "\n",
    "From measured data is obvious that for big instances is use of brute force method not usable because of vast computational complexity.\n",
    "On contrary for small instances brute force can find optimal solutions relatively fast.\n",
    "\n",
    "Heuristic method is able to solve fast instances of all sizes.\n",
    "Growth of computational complexity is acceptable.\n",
    "From figure 2 can be inferred that as size of instance grows so the relative error is smaller\n",
    "and thus the suboptimal solutions are better.\n",
    "\n",
    "Therefore brute force method should be use fro small instances\n",
    "and heuristic method is good for instances\n",
    "where the computational time of brute force method is not acceptable."
   ]
  }
 ],
 "metadata": {
  "kernelspec": {
   "display_name": "Python 3",
   "language": "python",
   "name": "python3"
  },
  "language_info": {
   "codemirror_mode": {
    "name": "ipython",
    "version": 3
   },
   "file_extension": ".py",
   "mimetype": "text/x-python",
   "name": "python",
   "nbconvert_exporter": "python",
   "pygments_lexer": "ipython3",
   "version": "3.6.3"
  }
 },
 "nbformat": 4,
 "nbformat_minor": 2
}
