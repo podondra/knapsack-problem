{
 "cells": [
  {
   "cell_type": "markdown",
   "metadata": {},
   "source": [
    "Author: Ondřej Podsztavek"
   ]
  },
  {
   "cell_type": "markdown",
   "metadata": {},
   "source": [
    "# Problem Specification\n",
    "\n",
    "Given whole number $n$ (number of things), whole number $M$ (knapsack capacity),\n",
    "finite set $W = \\{w_1, w_2, \\dots , w_n\\}$ (things' weights),\n",
    "finite set $C = \\{c_1, c_2, \\dots , c_n\\}$ (things' price).\n",
    "Construct set $X = \\{x_1, x_2, \\dots , x_n\\}$ where all $x_i \\in \\{0, 1\\}$,\n",
    "so that $w_1 x_1 + w_2 x_2 + \\dots + w_n x_n \\leq M$ (knapsack is not overloaded)\n",
    "and expression $c_1 x_1 + c_2 x_2 + \\dots + c_n x_n$ is maximal for all such sets\n",
    "(price of things in knapsack is maximal)."
   ]
  },
  {
   "cell_type": "markdown",
   "metadata": {},
   "source": [
    "# Analysis of Possible Solution Variants\n",
    "\n",
    "This section provides descriptions of possible methods for solving the knapsack problem:\n",
    "\n",
    "1. *Brute force method* tries all possible configurations and return optimal solution.\n",
    "2. *Heuristic method* is based on  inserting according to ratio of price and weight. Solution by heuristic fill the knapsack fast, but it can find suboptimal solution. \n",
    "3. *Branch and bound method* which has same time complexity as brute force method but provides two optimizations.\n",
    "4. *Dynamic programming (decomposition by overall value)* is pseudo-polynomial algorithm and it returns optimal solution.\n",
    "5. *FPTAS algorithm for knapsack problem* allows to solve the problem with chosen error and the time complexity is not going to grow worse the polynomially."
   ]
  },
  {
   "cell_type": "code",
   "execution_count": 1,
   "metadata": {},
   "outputs": [],
   "source": [
    "import knapsack as knap\n",
    "import ast\n",
    "import timeit\n",
    "import time\n",
    "import glob\n",
    "import pandas\n",
    "import numpy\n",
    "from matplotlib import pyplot\n",
    "from matplotlib.ticker import FormatStrFormatter\n",
    "from functools import partial"
   ]
  },
  {
   "cell_type": "code",
   "execution_count": 2,
   "metadata": {},
   "outputs": [],
   "source": [
    "%matplotlib inline"
   ]
  },
  {
   "cell_type": "code",
   "execution_count": 3,
   "metadata": {},
   "outputs": [],
   "source": [
    "def read_all_instances():\n",
    "    instances = dict()\n",
    "    for filename in glob.iglob('data/knap_??.inst.dat'):\n",
    "        with open(filename) as f:\n",
    "            instances.update(knap.read_instances(f))\n",
    "\n",
    "    return pandas.DataFrame.from_dict(instances, orient='index')\n",
    "\n",
    "def read_solutions(f):\n",
    "    data = {}\n",
    "    for line in f.readlines():\n",
    "        items = list(map(int, line.split()))\n",
    "        data[items[0]] = {\n",
    "            'solution_value': items[2],\n",
    "            'solution': items[3:]\n",
    "        }\n",
    "    return data\n",
    "\n",
    "def read_all_solutions():\n",
    "    solutions = dict()\n",
    "    for filename in glob.iglob('data/knap_??.sol.dat'):\n",
    "        with open(filename) as f:\n",
    "            solutions.update(read_solutions(f))\n",
    "    return pandas.DataFrame.from_dict(solutions, orient='index')\n",
    "\n",
    "def backup_dataframe():\n",
    "    # save DataFrame\n",
    "    df.to_csv('data/dataframe-backup.csv')\n",
    "\n",
    "def time_instances(fn, ns, df, time_column):\n",
    "    for n in ns:\n",
    "        for idx, inst in df[df['n'] == n].iterrows():\n",
    "            global inst_fn  # TODO global allows to make import from __main__\n",
    "            inst_fn = partial(fn, *inst[['n', 'm', 'weights', 'values']])\n",
    "            timer = timeit.Timer('inst_fn()', setup='from __main__ import inst_fn', timer=time.process_time)\n",
    "            t = timer.timeit(number=1)\n",
    "            df.loc[idx, time_column] = t\n",
    "            print(idx, inst['n'], t)\n",
    "\n",
    "def solve_instances(fn, ns, df, solution_column):\n",
    "    for n in ns:\n",
    "        for idx, inst in df[df['n'] == n].iterrows():\n",
    "            value, _ = fn(*inst[['n', 'm', 'weights', 'values']])\n",
    "            df.loc[idx, solution_column] = value\n",
    "            print(idx, inst['n'], value)"
   ]
  },
  {
   "cell_type": "code",
   "execution_count": 4,
   "metadata": {},
   "outputs": [
    {
     "name": "stdout",
     "output_type": "stream",
     "text": [
      "<class 'pandas.core.frame.DataFrame'>\n",
      "Int64Index: 600 entries, 9000 to 9599\n",
      "Data columns (total 20 columns):\n",
      "n                            600 non-null int64\n",
      "m                            600 non-null int64\n",
      "weights                      600 non-null object\n",
      "values                       600 non-null object\n",
      "heuristic_time               600 non-null float64\n",
      "brute_force_time             300 non-null float64\n",
      "solution_value               600 non-null int64\n",
      "solution                     600 non-null object\n",
      "heuristic_value              600 non-null float64\n",
      "relative_error               600 non-null float64\n",
      "branch_and_bound_time        600 non-null float64\n",
      "branch_and_bound_value       600 non-null float64\n",
      "dynamic_programming_value    600 non-null float64\n",
      "dynamic_programming_time     600 non-null float64\n",
      "fptas_0.5_value              600 non-null float64\n",
      "fptas_0.25_value             600 non-null float64\n",
      "fptas_0.1_value              600 non-null float64\n",
      "fptas_0.5_time               600 non-null float64\n",
      "fptas_0.25_time              600 non-null float64\n",
      "fptas_0.1_time               600 non-null float64\n",
      "dtypes: float64(14), int64(3), object(3)\n",
      "memory usage: 98.4+ KB\n"
     ]
    }
   ],
   "source": [
    "# restore DataFrame\n",
    "generic = lambda x: ast.literal_eval(x)\n",
    "converters = {\n",
    "    'weights': generic,\n",
    "    'values': generic,\n",
    "    'solution': generic\n",
    "}\n",
    "df = pandas.read_csv('data/dataframe-backup.csv', index_col=0, converters=converters)\n",
    "df.info()"
   ]
  },
  {
   "cell_type": "code",
   "execution_count": 5,
   "metadata": {},
   "outputs": [],
   "source": [
    "ns = [4, 10, 15, 20, 22, 25, 27, 30, 32, 35, 37, 40]"
   ]
  },
  {
   "cell_type": "markdown",
   "metadata": {},
   "source": [
    "## Brute Force Method\n",
    "\n",
    "This method remember the best cost of solution and corresponding configurations.\n",
    "For every configuration it check the constrain and compute the optimization criterion.\n",
    "Its value is compared to the best value computed so far and if needed the best value is modified.\n",
    "After testing all configurations the method has the optimal solution saved.\n",
    "Complexity of this method is $\\Theta(n2^n)$ where $n$ is instance size because count of all possible knapsack\n",
    "fillings is $2^n$ and for each of them constrain and optimization criterion has to be computed in time $\\Theta(n)$."
   ]
  },
  {
   "cell_type": "code",
   "execution_count": 6,
   "metadata": {
    "scrolled": true
   },
   "outputs": [],
   "source": [
    "time_instances(knap.brute_force, [], df, 'brute_force_time')"
   ]
  },
  {
   "cell_type": "markdown",
   "metadata": {},
   "source": [
    "## Heuristic Method\n",
    "\n",
    "This method calculates ratio of price and weight ($\\frac{c_i}{w_i}$) for each thing.\n",
    "According to this ratio the thing are sorted in descending order\n",
    "(if the ratio is the same then the lighter thing is preferred).\n",
    "Things are inserted into the knapsack in the sorted order until the knapsack is full.\n",
    "Heuristic method's complexity is $O(n\\log{n})$ because complexity of sorting Python function `sorted()` is\n",
    "$O(n\\log{n})$ (viz [Timsort](https://en.wikipedia.org/wiki/Timsort))\n",
    "and complexity of knapsack filling is only $O(n)$."
   ]
  },
  {
   "cell_type": "code",
   "execution_count": 7,
   "metadata": {
    "scrolled": true
   },
   "outputs": [],
   "source": [
    "time_instances(knap.heuristic, [], df, 'heuristic_time')\n",
    "solve_instances(knap.heuristic, [], df, 'heuristic_value')\n",
    "df['relative_error'] = (df['solution_value'] - df['heuristic_value']) / df['solution_value']"
   ]
  },
  {
   "cell_type": "code",
   "execution_count": 8,
   "metadata": {},
   "outputs": [
    {
     "data": {
      "image/png": "[encoded data removed]",
      "text/plain": [
       "<matplotlib.figure.Figure at 0x7f9b3daecbe0>"
      ]
     },
     "metadata": {},
     "output_type": "display_data"
    }
   ],
   "source": [
    "group = df.groupby(by='n')['relative_error']\n",
    "mean_error = group.mean()\n",
    "max_error = group.max()\n",
    "\n",
    "ax = pyplot.subplot()\n",
    "ax.set_title('Heuristic Method Relative Error')\n",
    "ax.scatter(ns, max_error, marker='x', label='maximal relative error')\n",
    "ax.scatter(ns, mean_error, marker='x', label='average relative error')\n",
    "ax.set_xticks(ns)\n",
    "ax.set_ylabel('relative error')\n",
    "ax.set_xlabel('instance size')\n",
    "ax.legend()\n",
    "ax.grid()\n",
    "\n",
    "pyplot.savefig('img/heuristic_relative_error.pdf')"
   ]
  },
  {
   "cell_type": "markdown",
   "metadata": {},
   "source": [
    "## Branch and Bound\n",
    "\n",
    "This method works similarly as brute force method. It recursively solves the problem. If in some recursive step the weight of things in knapsack is higher then its capacity the branch is discarded. Secondly, the methods holds the best value obtained so far. A branch is ended if in some recursive step value of undecided things cannot improve the best value. The recursive tree can be prune a lot but time complexity of this algorithm is still $O(2^n)$."
   ]
  },
  {
   "cell_type": "code",
   "execution_count": 9,
   "metadata": {},
   "outputs": [
    {
     "data": {
      "text/plain": [
       "True"
      ]
     },
     "execution_count": 9,
     "metadata": {},
     "output_type": "execute_result"
    }
   ],
   "source": [
    "time_instances(knap.branch_and_bound, [], df, 'branch_and_bound_time')\n",
    "solve_instances(knap.branch_and_bound, [], df, 'branch_and_bound_value')\n",
    "(df['branch_and_bound_value'] == df['solution_value']).all()"
   ]
  },
  {
   "cell_type": "markdown",
   "metadata": {},
   "source": [
    "## Dynamic Programming\n",
    "\n",
    "This method can be implemented in two forms. Decomposition by overall value or by capacity. Here decomposition by overall value is measured. Mark $W(i, v)$ as weight of optimal solution with value $v$ using first $i$ things. These equations hold $W(0, 0) = 0$, $W(0, v) = \\inf$ where $v > 0$ and $W(i + 1, v) = \\min(W(i, v), W(i, v - v_{i + 1}) + w_{i + 1})$ for all $i > 0$. Then the solution is $W(n, j) \\le M$ where $j$ is maximal. This analysis' implementation uses a matrix of size $n \\times \\sum{v_i}$ which is filled and optimal value is found according to equations above. Then the optimal configuration is reconstructed. Because matrix size is $n \\sum{v_i} \\le n \\sum{V_m}$ where $V_m = \\max\\{v_1, v_2, \\dots, v_n\\}$ and each field can be computed in constant time the time complexity is $O(n^2 C_m)$."
   ]
  },
  {
   "cell_type": "code",
   "execution_count": 10,
   "metadata": {},
   "outputs": [
    {
     "data": {
      "text/plain": [
       "True"
      ]
     },
     "execution_count": 10,
     "metadata": {},
     "output_type": "execute_result"
    }
   ],
   "source": [
    "time_instances(knap.dynamic_programming, [], df, 'dynamic_programming_time')\n",
    "solve_instances(knap.dynamic_programming, [], df, 'dynamic_programming_value')\n",
    "(df['dynamic_programming_value'] == df['solution_value']).all()"
   ]
  },
  {
   "cell_type": "markdown",
   "metadata": {},
   "source": [
    "## Fully Polynomial-Time Approximation Scheme (FPTAS)\n",
    "\n",
    "FPTAS algorithm for knapsack problem is polynomial algorithm. By omitting the least significant bits in values it allows to solve the problem with chosen relative error and the time complexity is guaranteed to grow only polynomially. Given required relative error $\\epsilon$ the algorithm construct new instance by modifying each value $v_i$ according to this equality $v'_i = \\lfloor \\frac{v_i}{K} \\rfloor$ where $K = \\epsilon \\frac{V_m}{n}$ and $V_m = \\max\\{v_1, v_2, \\dots, v_n\\}$. This new instance is then solved by dynamic programming method."
   ]
  },
  {
   "cell_type": "code",
   "execution_count": 11,
   "metadata": {
    "scrolled": true
   },
   "outputs": [],
   "source": [
    "for e in [0.5, 0.25, 0.1]:\n",
    "    time_instances(partial(knap.fptas, relative_error=e), [], df, 'fptas_' + str(e) + '_time')\n",
    "    solve_instances(partial(knap.fptas, relative_error=e), [], df, 'fptas_' + str(e) + '_value')\n",
    "    df['fptas_' + str(e) + '_relative_error'] = ((df['solution_value'] - df['fptas_' + str(e) + '_value'])\n",
    "                                                 / df['solution_value'])"
   ]
  },
  {
   "cell_type": "code",
   "execution_count": 12,
   "metadata": {},
   "outputs": [
    {
     "data": {
      "image/png": "[encoded data removed]",
      "text/plain": [
       "<matplotlib.figure.Figure at 0x7f9b3e283be0>"
      ]
     },
     "metadata": {},
     "output_type": "display_data"
    }
   ],
   "source": [
    "fig, axes = pyplot.subplots(nrows=1, ncols=3, figsize=(10, 5))\n",
    "for ax, e in zip(axes, [0.5, 0.25, 0.1]):\n",
    "    group = df.groupby(by='n')['fptas_' + str(e) + '_relative_error']\n",
    "    mean_error = group.mean()\n",
    "    max_error = group.max()\n",
    "\n",
    "    ax.set_ylim([0, 1.1 * df['fptas_' + str(e) + '_relative_error'].max()])\n",
    "    ax.set_title('FPTAS ($\\epsilon$ = ' + str(e) + ')')\n",
    "    ax.scatter(ns, mean_error, marker='x', label='average relative error')\n",
    "    ax.scatter(ns, max_error, marker='x', label='maximal relative error')\n",
    "    ax.set_xticks(ns)\n",
    "    for tick in ax.get_xticklabels():\n",
    "        tick.set_rotation(90)\n",
    "    ax.set_ylabel('relative error')\n",
    "    ax.set_xlabel('instance size')\n",
    "    ax.legend()\n",
    "    ax.grid()\n",
    "\n",
    "fig.tight_layout()\n",
    "pyplot.savefig('img/fptas_relative_error.pdf')"
   ]
  },
  {
   "cell_type": "markdown",
   "metadata": {},
   "source": [
    "# Measured Results\n",
    "\n",
    "Table below contains average CPU time of computations of each instance sizes.\n",
    "Measuring was carried out on processor *Intel(R) Core(TM) i5-3337U CPU @ 1.80GHz*.\n",
    "Times for brute force method on instance of size 27 where not possible to measure because of computational complexity.\n",
    "\n",
    "Figure 1 shows dependence of time on instance size.\n",
    "Figure 2 shows dependence of relative error on instance size.\n",
    "Relative error $\\epsilon$ is calculated as $\\epsilon = \\frac{c(\\text{opt}) - c(\\text{apx})}{c(\\text{opt})}$,\n",
    "where $c(\\text{opt})$ is cost of optimal and $c(\\text{apx})$ is cost of suboptimal solution.\n",
    "Figure 3 shows dependence of time on instance size for branch and bound method, dynamic programming and FPTAS algorithm.\n",
    "Figure 4 shows dependence of relative error on instance size for FPTAS algorithm.\n",
    "\n",
    "Table below shows the average CPU times for brute force method, heuristic method, branch and bound method and dynamic programming.\n",
    "\n",
    "instance size | brute force, CPU time ($s$) | heuristic, CPU time ($s$) | branch and bound, CPU time ($s$) | dynamic programming, CPU time ($s$)\n",
    "--:|-----------:|---------:| --------:|---------:\n",
    "4  |   0.000038 | 0.000026 | 0.000032 | 0.019083\n",
    "10 |   0.002232 | 0.000027 | 0.000184 | 0.128957\n",
    "15 |   0.102152 | 0.000035 | 0.000281 | 0.226531\n",
    "20 |   3.788610 | 0.000044 | 0.002965 | 0.461762\n",
    "22 |  16.176022 | 0.000058 | 0.009661 | 0.530528\n",
    "25 | 138.542621 | 0.000064 | 0.021655 | 0.704964\n",
    "27 |            | 0.000055 | 0.035915 | 0.772885\n",
    "30 |            | 0.000059 | 0.117377 | 0.942580\n",
    "32 |            | 0.000070 | 0.222888 | 1.069233\n",
    "35 |            | 0.000064 | 0.659761 | 1.259632\n",
    "37 |            | 0.000058 | 0.737257 | 1.397729\n",
    "40 |            | 0.000058 | 4.032605 | 1.658905\n",
    "\n",
    "![Figure 1: Brute force and heuristic method average computational CPU time.](img/brute_force_heuristic_times.pdf)\n",
    "\n",
    "![Figure 2: Heuristic method relative error.](img/heuristic_relative_error.pdf)\n",
    "\n",
    "![Figure 3: Branch and bound method, dynamic programming and FPTAS average computational CPU time.](img/bandb_dynamic_fptas.pdf)\n",
    "\n",
    "![Figure 4: FPTAS algorithm's relative error.](img/fptas_relative_error.pdf)"
   ]
  },
  {
   "cell_type": "code",
   "execution_count": 13,
   "metadata": {
    "scrolled": false
   },
   "outputs": [
    {
     "data": {
      "text/html": [
       "<div>\n",
       "<style>\n",
       "    .dataframe thead tr:only-child th {\n",
       "        text-align: right;\n",
       "    }\n",
       "\n",
       "    .dataframe thead th {\n",
       "        text-align: left;\n",
       "    }\n",
       "\n",
       "    .dataframe tbody tr th {\n",
       "        vertical-align: top;\n",
       "    }\n",
       "</style>\n",
       "<table border=\"1\" class=\"dataframe\">\n",
       "  <thead>\n",
       "    <tr style=\"text-align: right;\">\n",
       "      <th></th>\n",
       "      <th>brute_force_time</th>\n",
       "      <th>heuristic_time</th>\n",
       "      <th>branch_and_bound_time</th>\n",
       "      <th>dynamic_programming_time</th>\n",
       "      <th>fptas_0.5_time</th>\n",
       "      <th>fptas_0.25_time</th>\n",
       "      <th>fptas_0.1_time</th>\n",
       "    </tr>\n",
       "    <tr>\n",
       "      <th>n</th>\n",
       "      <th></th>\n",
       "      <th></th>\n",
       "      <th></th>\n",
       "      <th></th>\n",
       "      <th></th>\n",
       "      <th></th>\n",
       "      <th></th>\n",
       "    </tr>\n",
       "  </thead>\n",
       "  <tbody>\n",
       "    <tr>\n",
       "      <th>4</th>\n",
       "      <td>0.000038</td>\n",
       "      <td>0.000026</td>\n",
       "      <td>0.000034</td>\n",
       "      <td>0.019083</td>\n",
       "      <td>0.000908</td>\n",
       "      <td>0.001623</td>\n",
       "      <td>0.003787</td>\n",
       "    </tr>\n",
       "    <tr>\n",
       "      <th>10</th>\n",
       "      <td>0.002232</td>\n",
       "      <td>0.000027</td>\n",
       "      <td>0.000154</td>\n",
       "      <td>0.128957</td>\n",
       "      <td>0.011387</td>\n",
       "      <td>0.020090</td>\n",
       "      <td>0.050181</td>\n",
       "    </tr>\n",
       "    <tr>\n",
       "      <th>15</th>\n",
       "      <td>0.102152</td>\n",
       "      <td>0.000035</td>\n",
       "      <td>0.000292</td>\n",
       "      <td>0.226531</td>\n",
       "      <td>0.037538</td>\n",
       "      <td>0.060854</td>\n",
       "      <td>0.145518</td>\n",
       "    </tr>\n",
       "    <tr>\n",
       "      <th>20</th>\n",
       "      <td>3.788610</td>\n",
       "      <td>0.000044</td>\n",
       "      <td>0.002855</td>\n",
       "      <td>0.461762</td>\n",
       "      <td>0.089155</td>\n",
       "      <td>0.140829</td>\n",
       "      <td>0.342327</td>\n",
       "    </tr>\n",
       "    <tr>\n",
       "      <th>22</th>\n",
       "      <td>16.176022</td>\n",
       "      <td>0.000058</td>\n",
       "      <td>0.008928</td>\n",
       "      <td>0.530528</td>\n",
       "      <td>0.095749</td>\n",
       "      <td>0.180159</td>\n",
       "      <td>0.478413</td>\n",
       "    </tr>\n",
       "    <tr>\n",
       "      <th>25</th>\n",
       "      <td>138.542621</td>\n",
       "      <td>0.000064</td>\n",
       "      <td>0.022785</td>\n",
       "      <td>0.704964</td>\n",
       "      <td>0.135837</td>\n",
       "      <td>0.309871</td>\n",
       "      <td>0.691213</td>\n",
       "    </tr>\n",
       "    <tr>\n",
       "      <th>27</th>\n",
       "      <td>NaN</td>\n",
       "      <td>0.000055</td>\n",
       "      <td>0.052917</td>\n",
       "      <td>0.772885</td>\n",
       "      <td>0.164916</td>\n",
       "      <td>0.334847</td>\n",
       "      <td>0.819459</td>\n",
       "    </tr>\n",
       "    <tr>\n",
       "      <th>30</th>\n",
       "      <td>NaN</td>\n",
       "      <td>0.000059</td>\n",
       "      <td>0.121398</td>\n",
       "      <td>0.942580</td>\n",
       "      <td>0.239953</td>\n",
       "      <td>0.460975</td>\n",
       "      <td>1.148475</td>\n",
       "    </tr>\n",
       "    <tr>\n",
       "      <th>32</th>\n",
       "      <td>NaN</td>\n",
       "      <td>0.000070</td>\n",
       "      <td>0.229006</td>\n",
       "      <td>1.069233</td>\n",
       "      <td>0.311098</td>\n",
       "      <td>0.536905</td>\n",
       "      <td>1.346134</td>\n",
       "    </tr>\n",
       "    <tr>\n",
       "      <th>35</th>\n",
       "      <td>NaN</td>\n",
       "      <td>0.000064</td>\n",
       "      <td>0.627318</td>\n",
       "      <td>1.259632</td>\n",
       "      <td>0.358372</td>\n",
       "      <td>0.717600</td>\n",
       "      <td>1.771649</td>\n",
       "    </tr>\n",
       "    <tr>\n",
       "      <th>37</th>\n",
       "      <td>NaN</td>\n",
       "      <td>0.000058</td>\n",
       "      <td>0.647600</td>\n",
       "      <td>1.397729</td>\n",
       "      <td>0.411541</td>\n",
       "      <td>0.811933</td>\n",
       "      <td>2.038553</td>\n",
       "    </tr>\n",
       "    <tr>\n",
       "      <th>40</th>\n",
       "      <td>NaN</td>\n",
       "      <td>0.000058</td>\n",
       "      <td>3.563474</td>\n",
       "      <td>1.658905</td>\n",
       "      <td>0.522565</td>\n",
       "      <td>1.038683</td>\n",
       "      <td>2.608637</td>\n",
       "    </tr>\n",
       "  </tbody>\n",
       "</table>\n",
       "</div>"
      ],
      "text/plain": [
       "    brute_force_time  heuristic_time  branch_and_bound_time  \\\n",
       "n                                                             \n",
       "4           0.000038        0.000026               0.000034   \n",
       "10          0.002232        0.000027               0.000154   \n",
       "15          0.102152        0.000035               0.000292   \n",
       "20          3.788610        0.000044               0.002855   \n",
       "22         16.176022        0.000058               0.008928   \n",
       "25        138.542621        0.000064               0.022785   \n",
       "27               NaN        0.000055               0.052917   \n",
       "30               NaN        0.000059               0.121398   \n",
       "32               NaN        0.000070               0.229006   \n",
       "35               NaN        0.000064               0.627318   \n",
       "37               NaN        0.000058               0.647600   \n",
       "40               NaN        0.000058               3.563474   \n",
       "\n",
       "    dynamic_programming_time  fptas_0.5_time  fptas_0.25_time  fptas_0.1_time  \n",
       "n                                                                              \n",
       "4                   0.019083        0.000908         0.001623        0.003787  \n",
       "10                  0.128957        0.011387         0.020090        0.050181  \n",
       "15                  0.226531        0.037538         0.060854        0.145518  \n",
       "20                  0.461762        0.089155         0.140829        0.342327  \n",
       "22                  0.530528        0.095749         0.180159        0.478413  \n",
       "25                  0.704964        0.135837         0.309871        0.691213  \n",
       "27                  0.772885        0.164916         0.334847        0.819459  \n",
       "30                  0.942580        0.239953         0.460975        1.148475  \n",
       "32                  1.069233        0.311098         0.536905        1.346134  \n",
       "35                  1.259632        0.358372         0.717600        1.771649  \n",
       "37                  1.397729        0.411541         0.811933        2.038553  \n",
       "40                  1.658905        0.522565         1.038683        2.608637  "
      ]
     },
     "execution_count": 13,
     "metadata": {},
     "output_type": "execute_result"
    }
   ],
   "source": [
    "times_idx = ['brute_force_time', 'heuristic_time', 'branch_and_bound_time', 'dynamic_programming_time',\n",
    "             'fptas_0.5_time', 'fptas_0.25_time', 'fptas_0.1_time']\n",
    "times_group = df.groupby(by='n')[times_idx]\n",
    "times_mean = times_group.mean()\n",
    "times_std = times_group.std()\n",
    "times_mean"
   ]
  },
  {
   "cell_type": "code",
   "execution_count": 14,
   "metadata": {},
   "outputs": [
    {
     "data": {
      "image/png": "[encoded data removed]",
      "text/plain": [
       "<matplotlib.figure.Figure at 0x7f9b3e2b6e48>"
      ]
     },
     "metadata": {},
     "output_type": "display_data"
    }
   ],
   "source": [
    "fig, (ax1, ax2) = pyplot.subplots(nrows=1, ncols=2, figsize=(10, 4))\n",
    "# brute force\n",
    "ax1.set_yscale('log')\n",
    "ax1.scatter(ns, times_mean['brute_force_time'], marker='x', label='brute force')\n",
    "ax1.scatter(ns, times_mean['branch_and_bound_time'], marker='x', label='branch and bound')\n",
    "ax1.set_title('Brute Force and Branch and Bound Method')\n",
    "ax1.set_xticks(ns)\n",
    "ax1.set_xlabel('instance size')\n",
    "ax1.set_ylabel('CPU time ($s$)')\n",
    "ax1.legend()\n",
    "ax1.grid()\n",
    "\n",
    "# heuristic\n",
    "ax2.scatter(ns, times_mean['heuristic_time'], marker='x')\n",
    "ax2.yaxis.set_major_formatter(FormatStrFormatter('%.e'))\n",
    "ax2.set_ylim([0, 1.1 * times_mean['heuristic_time'].max()])\n",
    "ax2.set_title('Heuristic Method')\n",
    "ax2.set_xticks(ns)\n",
    "ax2.set_xlabel('instance size')\n",
    "ax2.set_ylabel('CPU time ($s$)')\n",
    "ax2.grid()\n",
    "\n",
    "fig.tight_layout()\n",
    "pyplot.savefig('img/brute_force_heuristic_times.pdf')"
   ]
  },
  {
   "cell_type": "code",
   "execution_count": 15,
   "metadata": {
    "scrolled": false
   },
   "outputs": [
    {
     "data": {
      "image/png": "[encoded data removed]",
      "text/plain": [
       "<matplotlib.figure.Figure at 0x7f9b3dc3da90>"
      ]
     },
     "metadata": {},
     "output_type": "display_data"
    }
   ],
   "source": [
    "fig, (ax1, ax2) = pyplot.subplots(nrows=1, ncols=2, figsize=(10, 4))\n",
    "\n",
    "ax1.set_title('Branch and Bound Method and Dynamic Programming')\n",
    "ax1.scatter(ns, times_mean['dynamic_programming_time'], marker='x', label='dynamic programming')\n",
    "ax1.scatter(ns, times_mean['branch_and_bound_time'], marker='x', label='branch and bound')\n",
    "\n",
    "ax2.set_title('Dynamic Programming and FPTAS')\n",
    "ax2.scatter(ns, times_mean['dynamic_programming_time'], marker='x', label='dynamic programming')\n",
    "ax2.scatter(ns, times_mean['fptas_0.5_time'], marker='x', label='FPTAS $\\epsilon$ = 0.5')\n",
    "ax2.scatter(ns, times_mean['fptas_0.25_time'], marker='x', label='FPTAS $\\epsilon$ = 0.25')\n",
    "ax2.scatter(ns, times_mean['fptas_0.1_time'], marker='x', label='FPTAS $\\epsilon$ = 0.1')\n",
    "\n",
    "for ax in (ax1, ax2):\n",
    "    ax.legend()\n",
    "    ax.set_ylabel('CPU time ($s$)')\n",
    "    ax.set_xticks(ns)\n",
    "    ax.set_xlabel('instance size')\n",
    "    ax.grid()\n",
    "\n",
    "fig.tight_layout()\n",
    "pyplot.savefig('img/bandb_dynamic_fptas.pdf')"
   ]
  },
  {
   "cell_type": "markdown",
   "metadata": {},
   "source": [
    "# Conclusion\n",
    "\n",
    "From measured data is obvious that for big instances brute force method is not usable\n",
    "because of vast computational complexity.\n",
    "On contrary for small instances brute force can find optimal solutions relatively fast.\n",
    "Same behavior has the branch and bound method. \n",
    "For big instances the computational time seems grow fast\n",
    "but performance on instances of size 40 and smaller is very good.\n",
    "\n",
    "Heuristic method is able to solve fast instances of all sizes.\n",
    "Growth of computational complexity is acceptable.\n",
    "From figure 2 can be inferred that as size of instance grows so the relative error is smaller\n",
    "and thus the suboptimal solutions are better.\n",
    "\n",
    "Because time complexity of dynamic programming grow psedopolynomially it is great method.\n",
    "Computational time grow slowly\n",
    "and if we are only interested in optimal solution price its memory complexity is acceptable for big instances.\n",
    "But this all holds only if the instances values are in suitable form.\n",
    "\n",
    "Partial solution for the problem of dynamic programming is FPTAS algorithm.\n",
    "By controlling the relative error it is possible to find suboptimal solution fast.\n",
    "But if the boundary for relative error is too much low\n",
    "it is slower than dynamic programming which would found optimal solution. This happens when $\\epsilon < \\frac{n}{V_m}$ then $K < 1$ resulting in the values of new instance being higher.\n",
    "\n",
    "Overall, branch and bound method is very efficient for small instances. Dynamic programming is great for bigger instances. What is more, FPTAS can be shorten the computational time if relative error want to be controlled."
   ]
  }
 ],
 "metadata": {
  "kernelspec": {
   "display_name": "Python 3",
   "language": "python",
   "name": "python3"
  },
  "language_info": {
   "codemirror_mode": {
    "name": "ipython",
    "version": 3
   },
   "file_extension": ".py",
   "mimetype": "text/x-python",
   "name": "python",
   "nbconvert_exporter": "python",
   "pygments_lexer": "ipython3",
   "version": "3.6.3"
  }
 },
 "nbformat": 4,
 "nbformat_minor": 2
}
